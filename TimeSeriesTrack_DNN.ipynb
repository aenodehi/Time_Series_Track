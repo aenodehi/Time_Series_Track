{
 "cells": [
  {
   "cell_type": "markdown",
   "metadata": {},
   "source": [
    "## Time Series Forecasting with Deep Neural Network"
   ]
  },
  {
   "cell_type": "markdown",
   "metadata": {},
   "source": [
    "#### Preparing features and labels\n",
    "\n",
    "Before feeding the data into Neural Network, we have to do some modification to the data so they can be accepted by the model. We are going to use windowing technique which basically group the data into feature and label. The label will be the next value. You can take a look at the next few cells to give an idea what we are going to do\n",
    "\n",
    "Official Documentation: [Here](https://www.tensorflow.org/api_docs/python/tf/data/Dataset)\n",
    "\n",
    "Helpful Resource:  \n",
    "- https://stackoverflow.com/questions/55429307/how-to-use-windows-created-by-the-dataset-window-method-in-tensorflow-2-0\n",
    "\n"
   ]
  },
  {
   "cell_type": "code",
   "execution_count": 1,
   "metadata": {},
   "outputs": [],
   "source": [
    "import pandas as pd\n",
    "from pathlib import Path\n",
    "import matplotlib.pyplot as plt"
   ]
  },
  {
   "cell_type": "code",
   "execution_count": 2,
   "metadata": {},
   "outputs": [
    {
     "data": {
      "text/html": [
       "<div>\n",
       "<style scoped>\n",
       "    .dataframe tbody tr th:only-of-type {\n",
       "        vertical-align: middle;\n",
       "    }\n",
       "\n",
       "    .dataframe tbody tr th {\n",
       "        vertical-align: top;\n",
       "    }\n",
       "\n",
       "    .dataframe thead th {\n",
       "        text-align: right;\n",
       "    }\n",
       "</style>\n",
       "<table border=\"1\" class=\"dataframe\">\n",
       "  <thead>\n",
       "    <tr style=\"text-align: right;\">\n",
       "      <th></th>\n",
       "      <th>v_bat</th>\n",
       "      <th>battery_soc</th>\n",
       "      <th>temperature</th>\n",
       "      <th>box_id</th>\n",
       "      <th>event_time</th>\n",
       "    </tr>\n",
       "  </thead>\n",
       "  <tbody>\n",
       "    <tr>\n",
       "      <th>0</th>\n",
       "      <td>70.92</td>\n",
       "      <td>58.43</td>\n",
       "      <td>34.59</td>\n",
       "      <td>7832</td>\n",
       "      <td>2024-11-06 14:01:41</td>\n",
       "    </tr>\n",
       "    <tr>\n",
       "      <th>1</th>\n",
       "      <td>70.92</td>\n",
       "      <td>58.43</td>\n",
       "      <td>34.59</td>\n",
       "      <td>7832</td>\n",
       "      <td>2024-11-06 14:01:41</td>\n",
       "    </tr>\n",
       "    <tr>\n",
       "      <th>2</th>\n",
       "      <td>70.92</td>\n",
       "      <td>58.43</td>\n",
       "      <td>34.59</td>\n",
       "      <td>7832</td>\n",
       "      <td>2024-11-06 14:01:41</td>\n",
       "    </tr>\n",
       "    <tr>\n",
       "      <th>3</th>\n",
       "      <td>70.92</td>\n",
       "      <td>58.43</td>\n",
       "      <td>34.59</td>\n",
       "      <td>7832</td>\n",
       "      <td>2024-11-06 14:01:41</td>\n",
       "    </tr>\n",
       "    <tr>\n",
       "      <th>4</th>\n",
       "      <td>70.92</td>\n",
       "      <td>58.50</td>\n",
       "      <td>34.56</td>\n",
       "      <td>7832</td>\n",
       "      <td>2024-11-06 14:00:42</td>\n",
       "    </tr>\n",
       "  </tbody>\n",
       "</table>\n",
       "</div>"
      ],
      "text/plain": [
       "   v_bat  battery_soc  temperature  box_id           event_time\n",
       "0  70.92        58.43        34.59    7832  2024-11-06 14:01:41\n",
       "1  70.92        58.43        34.59    7832  2024-11-06 14:01:41\n",
       "2  70.92        58.43        34.59    7832  2024-11-06 14:01:41\n",
       "3  70.92        58.43        34.59    7832  2024-11-06 14:01:41\n",
       "4  70.92        58.50        34.56    7832  2024-11-06 14:00:42"
      ]
     },
     "execution_count": 2,
     "metadata": {},
     "output_type": "execute_result"
    }
   ],
   "source": [
    "df_0 = pd.read_csv('./data/7832_battery.csv')\n",
    "df_0.head()"
   ]
  },
  {
   "cell_type": "code",
   "execution_count": 3,
   "metadata": {},
   "outputs": [
    {
     "data": {
      "text/plain": [
       "array([7832])"
      ]
     },
     "execution_count": 3,
     "metadata": {},
     "output_type": "execute_result"
    }
   ],
   "source": [
    "df_0['box_id'].unique()"
   ]
  },
  {
   "cell_type": "markdown",
   "metadata": {},
   "source": []
  },
  {
   "cell_type": "code",
   "execution_count": null,
   "metadata": {},
   "outputs": [],
   "source": []
  }
 ],
 "metadata": {
  "kernelspec": {
   "display_name": "Python 3 (ipykernel)",
   "language": "python",
   "name": "python3"
  },
  "language_info": {
   "codemirror_mode": {
    "name": "ipython",
    "version": 3
   },
   "file_extension": ".py",
   "mimetype": "text/x-python",
   "name": "python",
   "nbconvert_exporter": "python",
   "pygments_lexer": "ipython3",
   "version": "3.11.6"
  }
 },
 "nbformat": 4,
 "nbformat_minor": 4
}
