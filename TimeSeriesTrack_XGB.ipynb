{
 "cells": [
  {
   "cell_type": "markdown",
   "metadata": {},
   "source": [
    "## Time Series Forecasting with XGBoost"
   ]
  },
  {
   "cell_type": "code",
   "execution_count": 1,
   "metadata": {},
   "outputs": [],
   "source": [
    "import pandas as pd\n",
    "from pathlib import Path\n",
    "import matplotlib.pyplot as plt"
   ]
  },
  {
   "cell_type": "code",
   "execution_count": 2,
   "metadata": {},
   "outputs": [
    {
     "data": {
      "text/html": [
       "<div>\n",
       "<style scoped>\n",
       "    .dataframe tbody tr th:only-of-type {\n",
       "        vertical-align: middle;\n",
       "    }\n",
       "\n",
       "    .dataframe tbody tr th {\n",
       "        vertical-align: top;\n",
       "    }\n",
       "\n",
       "    .dataframe thead th {\n",
       "        text-align: right;\n",
       "    }\n",
       "</style>\n",
       "<table border=\"1\" class=\"dataframe\">\n",
       "  <thead>\n",
       "    <tr style=\"text-align: right;\">\n",
       "      <th></th>\n",
       "      <th>v_bat</th>\n",
       "      <th>battery_soc</th>\n",
       "      <th>temperature</th>\n",
       "      <th>box_id</th>\n",
       "      <th>event_time</th>\n",
       "    </tr>\n",
       "  </thead>\n",
       "  <tbody>\n",
       "    <tr>\n",
       "      <th>0</th>\n",
       "      <td>70.92</td>\n",
       "      <td>58.43</td>\n",
       "      <td>34.59</td>\n",
       "      <td>7832</td>\n",
       "      <td>2024-11-06 14:01:41</td>\n",
       "    </tr>\n",
       "    <tr>\n",
       "      <th>1</th>\n",
       "      <td>70.92</td>\n",
       "      <td>58.43</td>\n",
       "      <td>34.59</td>\n",
       "      <td>7832</td>\n",
       "      <td>2024-11-06 14:01:41</td>\n",
       "    </tr>\n",
       "    <tr>\n",
       "      <th>2</th>\n",
       "      <td>70.92</td>\n",
       "      <td>58.43</td>\n",
       "      <td>34.59</td>\n",
       "      <td>7832</td>\n",
       "      <td>2024-11-06 14:01:41</td>\n",
       "    </tr>\n",
       "    <tr>\n",
       "      <th>3</th>\n",
       "      <td>70.92</td>\n",
       "      <td>58.43</td>\n",
       "      <td>34.59</td>\n",
       "      <td>7832</td>\n",
       "      <td>2024-11-06 14:01:41</td>\n",
       "    </tr>\n",
       "    <tr>\n",
       "      <th>4</th>\n",
       "      <td>70.92</td>\n",
       "      <td>58.50</td>\n",
       "      <td>34.56</td>\n",
       "      <td>7832</td>\n",
       "      <td>2024-11-06 14:00:42</td>\n",
       "    </tr>\n",
       "  </tbody>\n",
       "</table>\n",
       "</div>"
      ],
      "text/plain": [
       "   v_bat  battery_soc  temperature  box_id           event_time\n",
       "0  70.92        58.43        34.59    7832  2024-11-06 14:01:41\n",
       "1  70.92        58.43        34.59    7832  2024-11-06 14:01:41\n",
       "2  70.92        58.43        34.59    7832  2024-11-06 14:01:41\n",
       "3  70.92        58.43        34.59    7832  2024-11-06 14:01:41\n",
       "4  70.92        58.50        34.56    7832  2024-11-06 14:00:42"
      ]
     },
     "execution_count": 2,
     "metadata": {},
     "output_type": "execute_result"
    }
   ],
   "source": [
    "df_0 = pd.read_csv('./data/7832_battery.csv')\n",
    "df_0.head()"
   ]
  },
  {
   "cell_type": "code",
   "execution_count": 3,
   "metadata": {},
   "outputs": [
    {
     "data": {
      "text/plain": [
       "array([7832])"
      ]
     },
     "execution_count": 3,
     "metadata": {},
     "output_type": "execute_result"
    }
   ],
   "source": [
    "df_0['box_id'].unique()"
   ]
  },
  {
   "cell_type": "code",
   "execution_count": 5,
   "metadata": {
    "scrolled": true
   },
   "outputs": [
    {
     "name": "stdout",
     "output_type": "stream",
     "text": [
      "<class 'pandas.core.frame.DataFrame'>\n",
      "RangeIndex: 26584 entries, 0 to 26583\n",
      "Data columns (total 5 columns):\n",
      " #   Column       Non-Null Count  Dtype  \n",
      "---  ------       --------------  -----  \n",
      " 0   v_bat        26584 non-null  float64\n",
      " 1   battery_soc  26584 non-null  float64\n",
      " 2   temperature  26584 non-null  float64\n",
      " 3   box_id       26584 non-null  int64  \n",
      " 4   event_time   26584 non-null  object \n",
      "dtypes: float64(3), int64(1), object(1)\n",
      "memory usage: 1.0+ MB\n"
     ]
    }
   ],
   "source": [
    "df_0.info()"
   ]
  },
  {
   "cell_type": "code",
   "execution_count": 6,
   "metadata": {},
   "outputs": [
    {
     "data": {
      "text/html": [
       "<div>\n",
       "<style scoped>\n",
       "    .dataframe tbody tr th:only-of-type {\n",
       "        vertical-align: middle;\n",
       "    }\n",
       "\n",
       "    .dataframe tbody tr th {\n",
       "        vertical-align: top;\n",
       "    }\n",
       "\n",
       "    .dataframe thead th {\n",
       "        text-align: right;\n",
       "    }\n",
       "</style>\n",
       "<table border=\"1\" class=\"dataframe\">\n",
       "  <thead>\n",
       "    <tr style=\"text-align: right;\">\n",
       "      <th></th>\n",
       "      <th>v_bat</th>\n",
       "      <th>battery_soc</th>\n",
       "      <th>temperature</th>\n",
       "      <th>box_id</th>\n",
       "    </tr>\n",
       "  </thead>\n",
       "  <tbody>\n",
       "    <tr>\n",
       "      <th>count</th>\n",
       "      <td>26584.000000</td>\n",
       "      <td>26584.000000</td>\n",
       "      <td>26584.000000</td>\n",
       "      <td>26584.0</td>\n",
       "    </tr>\n",
       "    <tr>\n",
       "      <th>mean</th>\n",
       "      <td>81.014837</td>\n",
       "      <td>73.127283</td>\n",
       "      <td>34.311100</td>\n",
       "      <td>7832.0</td>\n",
       "    </tr>\n",
       "    <tr>\n",
       "      <th>std</th>\n",
       "      <td>11.054354</td>\n",
       "      <td>22.020947</td>\n",
       "      <td>3.544261</td>\n",
       "      <td>0.0</td>\n",
       "    </tr>\n",
       "    <tr>\n",
       "      <th>min</th>\n",
       "      <td>54.420000</td>\n",
       "      <td>3.630000</td>\n",
       "      <td>27.860000</td>\n",
       "      <td>7832.0</td>\n",
       "    </tr>\n",
       "    <tr>\n",
       "      <th>25%</th>\n",
       "      <td>73.170000</td>\n",
       "      <td>62.562500</td>\n",
       "      <td>32.110000</td>\n",
       "      <td>7832.0</td>\n",
       "    </tr>\n",
       "    <tr>\n",
       "      <th>50%</th>\n",
       "      <td>81.250000</td>\n",
       "      <td>76.905000</td>\n",
       "      <td>34.240000</td>\n",
       "      <td>7832.0</td>\n",
       "    </tr>\n",
       "    <tr>\n",
       "      <th>75%</th>\n",
       "      <td>90.170000</td>\n",
       "      <td>91.180000</td>\n",
       "      <td>36.112500</td>\n",
       "      <td>7832.0</td>\n",
       "    </tr>\n",
       "    <tr>\n",
       "      <th>max</th>\n",
       "      <td>98.500000</td>\n",
       "      <td>100.000000</td>\n",
       "      <td>48.620000</td>\n",
       "      <td>7832.0</td>\n",
       "    </tr>\n",
       "  </tbody>\n",
       "</table>\n",
       "</div>"
      ],
      "text/plain": [
       "              v_bat   battery_soc   temperature   box_id\n",
       "count  26584.000000  26584.000000  26584.000000  26584.0\n",
       "mean      81.014837     73.127283     34.311100   7832.0\n",
       "std       11.054354     22.020947      3.544261      0.0\n",
       "min       54.420000      3.630000     27.860000   7832.0\n",
       "25%       73.170000     62.562500     32.110000   7832.0\n",
       "50%       81.250000     76.905000     34.240000   7832.0\n",
       "75%       90.170000     91.180000     36.112500   7832.0\n",
       "max       98.500000    100.000000     48.620000   7832.0"
      ]
     },
     "execution_count": 6,
     "metadata": {},
     "output_type": "execute_result"
    }
   ],
   "source": [
    "df_0.describe()"
   ]
  },
  {
   "cell_type": "code",
   "execution_count": 7,
   "metadata": {},
   "outputs": [
    {
     "data": {
      "text/plain": [
       "v_bat          0\n",
       "battery_soc    0\n",
       "temperature    0\n",
       "box_id         0\n",
       "event_time     0\n",
       "dtype: int64"
      ]
     },
     "execution_count": 7,
     "metadata": {},
     "output_type": "execute_result"
    }
   ],
   "source": [
    "df_0.isna().sum()"
   ]
  },
  {
   "cell_type": "code",
   "execution_count": 8,
   "metadata": {},
   "outputs": [],
   "source": [
    "# df_0[['v_bat', 'battery_soc', 'temperature']].ffill(inplace=True)\n",
    "# data.fillna({'v_bat': 'ffill', 'battery_soc': 'ffill', 'temperature': 'ffill'}, inplace=True)"
   ]
  },
  {
   "cell_type": "code",
   "execution_count": 9,
   "metadata": {},
   "outputs": [
    {
     "data": {
      "text/html": [
       "<div>\n",
       "<style scoped>\n",
       "    .dataframe tbody tr th:only-of-type {\n",
       "        vertical-align: middle;\n",
       "    }\n",
       "\n",
       "    .dataframe tbody tr th {\n",
       "        vertical-align: top;\n",
       "    }\n",
       "\n",
       "    .dataframe thead th {\n",
       "        text-align: right;\n",
       "    }\n",
       "</style>\n",
       "<table border=\"1\" class=\"dataframe\">\n",
       "  <thead>\n",
       "    <tr style=\"text-align: right;\">\n",
       "      <th></th>\n",
       "      <th>v_bat</th>\n",
       "      <th>battery_soc</th>\n",
       "      <th>temperature</th>\n",
       "      <th>box_id</th>\n",
       "      <th>event_time</th>\n",
       "      <th>vol</th>\n",
       "      <th>Vnormalized</th>\n",
       "      <th>soc</th>\n",
       "      <th>soc_2</th>\n",
       "    </tr>\n",
       "  </thead>\n",
       "  <tbody>\n",
       "    <tr>\n",
       "      <th>0</th>\n",
       "      <td>70.92</td>\n",
       "      <td>58.43</td>\n",
       "      <td>34.59</td>\n",
       "      <td>7832</td>\n",
       "      <td>2024-11-06 14:01:41</td>\n",
       "      <td>3.85104</td>\n",
       "      <td>0.7092</td>\n",
       "      <td>78.812187</td>\n",
       "      <td>75.370364</td>\n",
       "    </tr>\n",
       "    <tr>\n",
       "      <th>1</th>\n",
       "      <td>70.92</td>\n",
       "      <td>58.43</td>\n",
       "      <td>34.59</td>\n",
       "      <td>7832</td>\n",
       "      <td>2024-11-06 14:01:41</td>\n",
       "      <td>3.85104</td>\n",
       "      <td>0.7092</td>\n",
       "      <td>78.812187</td>\n",
       "      <td>75.370364</td>\n",
       "    </tr>\n",
       "    <tr>\n",
       "      <th>2</th>\n",
       "      <td>70.92</td>\n",
       "      <td>58.43</td>\n",
       "      <td>34.59</td>\n",
       "      <td>7832</td>\n",
       "      <td>2024-11-06 14:01:41</td>\n",
       "      <td>3.85104</td>\n",
       "      <td>0.7092</td>\n",
       "      <td>78.812187</td>\n",
       "      <td>75.370364</td>\n",
       "    </tr>\n",
       "    <tr>\n",
       "      <th>3</th>\n",
       "      <td>70.92</td>\n",
       "      <td>58.43</td>\n",
       "      <td>34.59</td>\n",
       "      <td>7832</td>\n",
       "      <td>2024-11-06 14:01:41</td>\n",
       "      <td>3.85104</td>\n",
       "      <td>0.7092</td>\n",
       "      <td>78.812187</td>\n",
       "      <td>75.370364</td>\n",
       "    </tr>\n",
       "    <tr>\n",
       "      <th>4</th>\n",
       "      <td>70.92</td>\n",
       "      <td>58.50</td>\n",
       "      <td>34.56</td>\n",
       "      <td>7832</td>\n",
       "      <td>2024-11-06 14:00:42</td>\n",
       "      <td>3.85104</td>\n",
       "      <td>0.7092</td>\n",
       "      <td>78.812187</td>\n",
       "      <td>75.370364</td>\n",
       "    </tr>\n",
       "  </tbody>\n",
       "</table>\n",
       "</div>"
      ],
      "text/plain": [
       "   v_bat  battery_soc  temperature  box_id           event_time      vol  \\\n",
       "0  70.92        58.43        34.59    7832  2024-11-06 14:01:41  3.85104   \n",
       "1  70.92        58.43        34.59    7832  2024-11-06 14:01:41  3.85104   \n",
       "2  70.92        58.43        34.59    7832  2024-11-06 14:01:41  3.85104   \n",
       "3  70.92        58.43        34.59    7832  2024-11-06 14:01:41  3.85104   \n",
       "4  70.92        58.50        34.56    7832  2024-11-06 14:00:42  3.85104   \n",
       "\n",
       "   Vnormalized        soc      soc_2  \n",
       "0       0.7092  78.812187  75.370364  \n",
       "1       0.7092  78.812187  75.370364  \n",
       "2       0.7092  78.812187  75.370364  \n",
       "3       0.7092  78.812187  75.370364  \n",
       "4       0.7092  78.812187  75.370364  "
      ]
     },
     "execution_count": 9,
     "metadata": {},
     "output_type": "execute_result"
    }
   ],
   "source": [
    "def calculate_vol(v_bat):\n",
    "    return (((v_bat/100) * 1200) + 3000)/1000\n",
    "\n",
    "def calculate_soc(Vnormalized):\n",
    "    return 112 - 112/(1 + ((1.9*Vnormalized)**2.9))\n",
    "\n",
    "def calculate_soc_2(Vnormalized):\n",
    "    return 270 - 270/((1 + ((3.5 * Vnormalized)**8))**0.045)\n",
    "\n",
    "def normalize(voltage):\n",
    "    return (voltage - min_vol) / (max_vol - min_vol)\n",
    "\n",
    "max_vol = 4.2\n",
    "min_vol = 3\n",
    "\n",
    "df = (df_0\n",
    "      .assign(vol=lambda x: x['v_bat'].apply(calculate_vol))\n",
    "      .assign(Vnormalized=lambda x: x['vol'].apply(normalize))\n",
    "      .assign(soc=lambda x: x['Vnormalized'].apply(calculate_soc))\n",
    "      .assign(soc_2=lambda x: x['Vnormalized'].apply(calculate_soc_2)))\n",
    "df.head()"
   ]
  },
  {
   "cell_type": "code",
   "execution_count": 10,
   "metadata": {},
   "outputs": [
    {
     "data": {
      "text/plain": [
       "v_bat          0\n",
       "battery_soc    0\n",
       "temperature    0\n",
       "box_id         0\n",
       "event_time     0\n",
       "vol            0\n",
       "Vnormalized    0\n",
       "soc            0\n",
       "soc_2          0\n",
       "dtype: int64"
      ]
     },
     "execution_count": 10,
     "metadata": {},
     "output_type": "execute_result"
    }
   ],
   "source": [
    "df.isna().sum()"
   ]
  },
  {
   "cell_type": "code",
   "execution_count": 11,
   "metadata": {},
   "outputs": [
    {
     "data": {
      "text/html": [
       "<div>\n",
       "<style scoped>\n",
       "    .dataframe tbody tr th:only-of-type {\n",
       "        vertical-align: middle;\n",
       "    }\n",
       "\n",
       "    .dataframe tbody tr th {\n",
       "        vertical-align: top;\n",
       "    }\n",
       "\n",
       "    .dataframe thead th {\n",
       "        text-align: right;\n",
       "    }\n",
       "</style>\n",
       "<table border=\"1\" class=\"dataframe\">\n",
       "  <thead>\n",
       "    <tr style=\"text-align: right;\">\n",
       "      <th></th>\n",
       "      <th>v_bat</th>\n",
       "      <th>battery_soc</th>\n",
       "      <th>temperature</th>\n",
       "      <th>box_id</th>\n",
       "      <th>vol</th>\n",
       "      <th>Vnormalized</th>\n",
       "      <th>soc</th>\n",
       "      <th>soc_2</th>\n",
       "    </tr>\n",
       "    <tr>\n",
       "      <th>event_time</th>\n",
       "      <th></th>\n",
       "      <th></th>\n",
       "      <th></th>\n",
       "      <th></th>\n",
       "      <th></th>\n",
       "      <th></th>\n",
       "      <th></th>\n",
       "      <th></th>\n",
       "    </tr>\n",
       "  </thead>\n",
       "  <tbody>\n",
       "    <tr>\n",
       "      <th>2024-11-06 14:01:41</th>\n",
       "      <td>70.92</td>\n",
       "      <td>58.43</td>\n",
       "      <td>34.59</td>\n",
       "      <td>7832</td>\n",
       "      <td>3.85104</td>\n",
       "      <td>0.7092</td>\n",
       "      <td>78.812187</td>\n",
       "      <td>75.370364</td>\n",
       "    </tr>\n",
       "    <tr>\n",
       "      <th>2024-11-06 14:01:41</th>\n",
       "      <td>70.92</td>\n",
       "      <td>58.43</td>\n",
       "      <td>34.59</td>\n",
       "      <td>7832</td>\n",
       "      <td>3.85104</td>\n",
       "      <td>0.7092</td>\n",
       "      <td>78.812187</td>\n",
       "      <td>75.370364</td>\n",
       "    </tr>\n",
       "    <tr>\n",
       "      <th>2024-11-06 14:01:41</th>\n",
       "      <td>70.92</td>\n",
       "      <td>58.43</td>\n",
       "      <td>34.59</td>\n",
       "      <td>7832</td>\n",
       "      <td>3.85104</td>\n",
       "      <td>0.7092</td>\n",
       "      <td>78.812187</td>\n",
       "      <td>75.370364</td>\n",
       "    </tr>\n",
       "    <tr>\n",
       "      <th>2024-11-06 14:01:41</th>\n",
       "      <td>70.92</td>\n",
       "      <td>58.43</td>\n",
       "      <td>34.59</td>\n",
       "      <td>7832</td>\n",
       "      <td>3.85104</td>\n",
       "      <td>0.7092</td>\n",
       "      <td>78.812187</td>\n",
       "      <td>75.370364</td>\n",
       "    </tr>\n",
       "    <tr>\n",
       "      <th>2024-11-06 14:00:42</th>\n",
       "      <td>70.92</td>\n",
       "      <td>58.50</td>\n",
       "      <td>34.56</td>\n",
       "      <td>7832</td>\n",
       "      <td>3.85104</td>\n",
       "      <td>0.7092</td>\n",
       "      <td>78.812187</td>\n",
       "      <td>75.370364</td>\n",
       "    </tr>\n",
       "  </tbody>\n",
       "</table>\n",
       "</div>"
      ],
      "text/plain": [
       "                     v_bat  battery_soc  temperature  box_id      vol  \\\n",
       "event_time                                                              \n",
       "2024-11-06 14:01:41  70.92        58.43        34.59    7832  3.85104   \n",
       "2024-11-06 14:01:41  70.92        58.43        34.59    7832  3.85104   \n",
       "2024-11-06 14:01:41  70.92        58.43        34.59    7832  3.85104   \n",
       "2024-11-06 14:01:41  70.92        58.43        34.59    7832  3.85104   \n",
       "2024-11-06 14:00:42  70.92        58.50        34.56    7832  3.85104   \n",
       "\n",
       "                     Vnormalized        soc      soc_2  \n",
       "event_time                                              \n",
       "2024-11-06 14:01:41       0.7092  78.812187  75.370364  \n",
       "2024-11-06 14:01:41       0.7092  78.812187  75.370364  \n",
       "2024-11-06 14:01:41       0.7092  78.812187  75.370364  \n",
       "2024-11-06 14:01:41       0.7092  78.812187  75.370364  \n",
       "2024-11-06 14:00:42       0.7092  78.812187  75.370364  "
      ]
     },
     "execution_count": 11,
     "metadata": {},
     "output_type": "execute_result"
    }
   ],
   "source": [
    "df = df.set_index('event_time')\n",
    "df.head()"
   ]
  },
  {
   "cell_type": "code",
   "execution_count": 12,
   "metadata": {},
   "outputs": [],
   "source": [
    "df = df[['box_id', 'temperature', 'vol', 'battery_soc', 'soc', 'soc_2']]"
   ]
  },
  {
   "cell_type": "code",
   "execution_count": 13,
   "metadata": {},
   "outputs": [
    {
     "data": {
      "text/html": [
       "<div>\n",
       "<style scoped>\n",
       "    .dataframe tbody tr th:only-of-type {\n",
       "        vertical-align: middle;\n",
       "    }\n",
       "\n",
       "    .dataframe tbody tr th {\n",
       "        vertical-align: top;\n",
       "    }\n",
       "\n",
       "    .dataframe thead th {\n",
       "        text-align: right;\n",
       "    }\n",
       "</style>\n",
       "<table border=\"1\" class=\"dataframe\">\n",
       "  <thead>\n",
       "    <tr style=\"text-align: right;\">\n",
       "      <th></th>\n",
       "      <th>box_id</th>\n",
       "      <th>temperature</th>\n",
       "      <th>vol</th>\n",
       "      <th>battery_soc</th>\n",
       "      <th>soc</th>\n",
       "      <th>soc_2</th>\n",
       "    </tr>\n",
       "    <tr>\n",
       "      <th>event_time</th>\n",
       "      <th></th>\n",
       "      <th></th>\n",
       "      <th></th>\n",
       "      <th></th>\n",
       "      <th></th>\n",
       "      <th></th>\n",
       "    </tr>\n",
       "  </thead>\n",
       "  <tbody>\n",
       "    <tr>\n",
       "      <th>2024-11-06 14:01:41</th>\n",
       "      <td>7832</td>\n",
       "      <td>34.59</td>\n",
       "      <td>3.85104</td>\n",
       "      <td>58.43</td>\n",
       "      <td>78.812187</td>\n",
       "      <td>75.370364</td>\n",
       "    </tr>\n",
       "    <tr>\n",
       "      <th>2024-11-06 14:01:41</th>\n",
       "      <td>7832</td>\n",
       "      <td>34.59</td>\n",
       "      <td>3.85104</td>\n",
       "      <td>58.43</td>\n",
       "      <td>78.812187</td>\n",
       "      <td>75.370364</td>\n",
       "    </tr>\n",
       "    <tr>\n",
       "      <th>2024-11-06 14:01:41</th>\n",
       "      <td>7832</td>\n",
       "      <td>34.59</td>\n",
       "      <td>3.85104</td>\n",
       "      <td>58.43</td>\n",
       "      <td>78.812187</td>\n",
       "      <td>75.370364</td>\n",
       "    </tr>\n",
       "    <tr>\n",
       "      <th>2024-11-06 14:01:41</th>\n",
       "      <td>7832</td>\n",
       "      <td>34.59</td>\n",
       "      <td>3.85104</td>\n",
       "      <td>58.43</td>\n",
       "      <td>78.812187</td>\n",
       "      <td>75.370364</td>\n",
       "    </tr>\n",
       "    <tr>\n",
       "      <th>2024-11-06 14:00:42</th>\n",
       "      <td>7832</td>\n",
       "      <td>34.56</td>\n",
       "      <td>3.85104</td>\n",
       "      <td>58.50</td>\n",
       "      <td>78.812187</td>\n",
       "      <td>75.370364</td>\n",
       "    </tr>\n",
       "  </tbody>\n",
       "</table>\n",
       "</div>"
      ],
      "text/plain": [
       "                     box_id  temperature      vol  battery_soc        soc  \\\n",
       "event_time                                                                  \n",
       "2024-11-06 14:01:41    7832        34.59  3.85104        58.43  78.812187   \n",
       "2024-11-06 14:01:41    7832        34.59  3.85104        58.43  78.812187   \n",
       "2024-11-06 14:01:41    7832        34.59  3.85104        58.43  78.812187   \n",
       "2024-11-06 14:01:41    7832        34.59  3.85104        58.43  78.812187   \n",
       "2024-11-06 14:00:42    7832        34.56  3.85104        58.50  78.812187   \n",
       "\n",
       "                         soc_2  \n",
       "event_time                      \n",
       "2024-11-06 14:01:41  75.370364  \n",
       "2024-11-06 14:01:41  75.370364  \n",
       "2024-11-06 14:01:41  75.370364  \n",
       "2024-11-06 14:01:41  75.370364  \n",
       "2024-11-06 14:00:42  75.370364  "
      ]
     },
     "execution_count": 13,
     "metadata": {},
     "output_type": "execute_result"
    }
   ],
   "source": [
    "df.head()"
   ]
  },
  {
   "cell_type": "code",
   "execution_count": 14,
   "metadata": {},
   "outputs": [
    {
     "data": {
      "text/plain": [
       "box_id         0\n",
       "temperature    0\n",
       "vol            0\n",
       "battery_soc    0\n",
       "soc            0\n",
       "soc_2          0\n",
       "dtype: int64"
      ]
     },
     "execution_count": 14,
     "metadata": {},
     "output_type": "execute_result"
    }
   ],
   "source": [
    "df.isna().sum()"
   ]
  },
  {
   "cell_type": "code",
   "execution_count": 15,
   "metadata": {
    "scrolled": true
   },
   "outputs": [
    {
     "data": {
      "text/html": [
       "<div>\n",
       "<style scoped>\n",
       "    .dataframe tbody tr th:only-of-type {\n",
       "        vertical-align: middle;\n",
       "    }\n",
       "\n",
       "    .dataframe tbody tr th {\n",
       "        vertical-align: top;\n",
       "    }\n",
       "\n",
       "    .dataframe thead th {\n",
       "        text-align: right;\n",
       "    }\n",
       "</style>\n",
       "<table border=\"1\" class=\"dataframe\">\n",
       "  <thead>\n",
       "    <tr style=\"text-align: right;\">\n",
       "      <th></th>\n",
       "      <th>box_id</th>\n",
       "      <th>temperature</th>\n",
       "      <th>vol</th>\n",
       "      <th>battery_soc</th>\n",
       "      <th>soc</th>\n",
       "      <th>soc_2</th>\n",
       "    </tr>\n",
       "    <tr>\n",
       "      <th>event_time</th>\n",
       "      <th></th>\n",
       "      <th></th>\n",
       "      <th></th>\n",
       "      <th></th>\n",
       "      <th></th>\n",
       "      <th></th>\n",
       "    </tr>\n",
       "  </thead>\n",
       "  <tbody>\n",
       "    <tr>\n",
       "      <th>2024-11-02 13:34:10</th>\n",
       "      <td>7832</td>\n",
       "      <td>31.28</td>\n",
       "      <td>3.96</td>\n",
       "      <td>64.33</td>\n",
       "      <td>86.357805</td>\n",
       "      <td>83.627556</td>\n",
       "    </tr>\n",
       "    <tr>\n",
       "      <th>2024-11-02 13:34:20</th>\n",
       "      <td>7832</td>\n",
       "      <td>31.28</td>\n",
       "      <td>3.96</td>\n",
       "      <td>64.33</td>\n",
       "      <td>86.357805</td>\n",
       "      <td>83.627556</td>\n",
       "    </tr>\n",
       "    <tr>\n",
       "      <th>2024-11-02 13:34:23</th>\n",
       "      <td>7832</td>\n",
       "      <td>31.28</td>\n",
       "      <td>3.96</td>\n",
       "      <td>64.33</td>\n",
       "      <td>86.357805</td>\n",
       "      <td>83.627556</td>\n",
       "    </tr>\n",
       "    <tr>\n",
       "      <th>2024-11-02 13:34:23</th>\n",
       "      <td>7832</td>\n",
       "      <td>31.28</td>\n",
       "      <td>3.96</td>\n",
       "      <td>64.33</td>\n",
       "      <td>86.357805</td>\n",
       "      <td>83.627556</td>\n",
       "    </tr>\n",
       "    <tr>\n",
       "      <th>2024-11-02 13:34:23</th>\n",
       "      <td>7832</td>\n",
       "      <td>31.28</td>\n",
       "      <td>3.96</td>\n",
       "      <td>64.33</td>\n",
       "      <td>86.357805</td>\n",
       "      <td>83.627556</td>\n",
       "    </tr>\n",
       "  </tbody>\n",
       "</table>\n",
       "</div>"
      ],
      "text/plain": [
       "                     box_id  temperature   vol  battery_soc        soc  \\\n",
       "event_time                                                               \n",
       "2024-11-02 13:34:10    7832        31.28  3.96        64.33  86.357805   \n",
       "2024-11-02 13:34:20    7832        31.28  3.96        64.33  86.357805   \n",
       "2024-11-02 13:34:23    7832        31.28  3.96        64.33  86.357805   \n",
       "2024-11-02 13:34:23    7832        31.28  3.96        64.33  86.357805   \n",
       "2024-11-02 13:34:23    7832        31.28  3.96        64.33  86.357805   \n",
       "\n",
       "                         soc_2  \n",
       "event_time                      \n",
       "2024-11-02 13:34:10  83.627556  \n",
       "2024-11-02 13:34:20  83.627556  \n",
       "2024-11-02 13:34:23  83.627556  \n",
       "2024-11-02 13:34:23  83.627556  \n",
       "2024-11-02 13:34:23  83.627556  "
      ]
     },
     "execution_count": 15,
     "metadata": {},
     "output_type": "execute_result"
    }
   ],
   "source": [
    "df.index = pd.to_datetime(df.index)\n",
    "# df.sort_values('event_time', ascending=True)\n",
    "df.sort_index(inplace=True)\n",
    "df.head()"
   ]
  },
  {
   "cell_type": "code",
   "execution_count": 16,
   "metadata": {},
   "outputs": [
    {
     "data": {
      "text/plain": [
       "box_id         0\n",
       "temperature    0\n",
       "vol            0\n",
       "battery_soc    0\n",
       "soc            0\n",
       "soc_2          0\n",
       "dtype: int64"
      ]
     },
     "execution_count": 16,
     "metadata": {},
     "output_type": "execute_result"
    }
   ],
   "source": [
    "df.isna().sum()"
   ]
  },
  {
   "cell_type": "code",
   "execution_count": 17,
   "metadata": {
    "scrolled": true
   },
   "outputs": [
    {
     "name": "stdout",
     "output_type": "stream",
     "text": [
      "<class 'pandas.core.frame.DataFrame'>\n",
      "DatetimeIndex: 26584 entries, 2024-11-02 13:34:10 to 2024-11-06 14:01:41\n",
      "Data columns (total 6 columns):\n",
      " #   Column       Non-Null Count  Dtype  \n",
      "---  ------       --------------  -----  \n",
      " 0   box_id       26584 non-null  int64  \n",
      " 1   temperature  26584 non-null  float64\n",
      " 2   vol          26584 non-null  float64\n",
      " 3   battery_soc  26584 non-null  float64\n",
      " 4   soc          26584 non-null  float64\n",
      " 5   soc_2        26584 non-null  float64\n",
      "dtypes: float64(5), int64(1)\n",
      "memory usage: 1.4 MB\n"
     ]
    }
   ],
   "source": [
    "df.info()"
   ]
  },
  {
   "cell_type": "code",
   "execution_count": 18,
   "metadata": {
    "scrolled": true
   },
   "outputs": [
    {
     "data": {
      "text/html": [
       "<div>\n",
       "<style scoped>\n",
       "    .dataframe tbody tr th:only-of-type {\n",
       "        vertical-align: middle;\n",
       "    }\n",
       "\n",
       "    .dataframe tbody tr th {\n",
       "        vertical-align: top;\n",
       "    }\n",
       "\n",
       "    .dataframe thead th {\n",
       "        text-align: right;\n",
       "    }\n",
       "</style>\n",
       "<table border=\"1\" class=\"dataframe\">\n",
       "  <thead>\n",
       "    <tr style=\"text-align: right;\">\n",
       "      <th></th>\n",
       "      <th>box_id</th>\n",
       "      <th>temperature</th>\n",
       "      <th>vol</th>\n",
       "      <th>battery_soc</th>\n",
       "      <th>soc</th>\n",
       "      <th>soc_2</th>\n",
       "    </tr>\n",
       "  </thead>\n",
       "  <tbody>\n",
       "    <tr>\n",
       "      <th>count</th>\n",
       "      <td>26584.0</td>\n",
       "      <td>26584.000000</td>\n",
       "      <td>26584.000000</td>\n",
       "      <td>26584.000000</td>\n",
       "      <td>26584.000000</td>\n",
       "      <td>26584.000000</td>\n",
       "    </tr>\n",
       "    <tr>\n",
       "      <th>mean</th>\n",
       "      <td>7832.0</td>\n",
       "      <td>34.311100</td>\n",
       "      <td>3.972178</td>\n",
       "      <td>73.127283</td>\n",
       "      <td>85.656237</td>\n",
       "      <td>83.572387</td>\n",
       "    </tr>\n",
       "    <tr>\n",
       "      <th>std</th>\n",
       "      <td>0.0</td>\n",
       "      <td>3.544261</td>\n",
       "      <td>0.132652</td>\n",
       "      <td>22.020947</td>\n",
       "      <td>8.588300</td>\n",
       "      <td>9.669092</td>\n",
       "    </tr>\n",
       "    <tr>\n",
       "      <th>min</th>\n",
       "      <td>7832.0</td>\n",
       "      <td>27.860000</td>\n",
       "      <td>3.653040</td>\n",
       "      <td>3.630000</td>\n",
       "      <td>58.711212</td>\n",
       "      <td>55.950755</td>\n",
       "    </tr>\n",
       "    <tr>\n",
       "      <th>25%</th>\n",
       "      <td>7832.0</td>\n",
       "      <td>32.110000</td>\n",
       "      <td>3.878040</td>\n",
       "      <td>62.562500</td>\n",
       "      <td>80.887748</td>\n",
       "      <td>77.545173</td>\n",
       "    </tr>\n",
       "    <tr>\n",
       "      <th>50%</th>\n",
       "      <td>7832.0</td>\n",
       "      <td>34.240000</td>\n",
       "      <td>3.975000</td>\n",
       "      <td>76.905000</td>\n",
       "      <td>87.235923</td>\n",
       "      <td>84.664640</td>\n",
       "    </tr>\n",
       "    <tr>\n",
       "      <th>75%</th>\n",
       "      <td>7832.0</td>\n",
       "      <td>36.112500</td>\n",
       "      <td>4.082040</td>\n",
       "      <td>91.180000</td>\n",
       "      <td>92.572514</td>\n",
       "      <td>91.484908</td>\n",
       "    </tr>\n",
       "    <tr>\n",
       "      <th>max</th>\n",
       "      <td>7832.0</td>\n",
       "      <td>48.620000</td>\n",
       "      <td>4.182000</td>\n",
       "      <td>100.000000</td>\n",
       "      <td>96.350407</td>\n",
       "      <td>97.073622</td>\n",
       "    </tr>\n",
       "  </tbody>\n",
       "</table>\n",
       "</div>"
      ],
      "text/plain": [
       "        box_id   temperature           vol   battery_soc           soc  \\\n",
       "count  26584.0  26584.000000  26584.000000  26584.000000  26584.000000   \n",
       "mean    7832.0     34.311100      3.972178     73.127283     85.656237   \n",
       "std        0.0      3.544261      0.132652     22.020947      8.588300   \n",
       "min     7832.0     27.860000      3.653040      3.630000     58.711212   \n",
       "25%     7832.0     32.110000      3.878040     62.562500     80.887748   \n",
       "50%     7832.0     34.240000      3.975000     76.905000     87.235923   \n",
       "75%     7832.0     36.112500      4.082040     91.180000     92.572514   \n",
       "max     7832.0     48.620000      4.182000    100.000000     96.350407   \n",
       "\n",
       "              soc_2  \n",
       "count  26584.000000  \n",
       "mean      83.572387  \n",
       "std        9.669092  \n",
       "min       55.950755  \n",
       "25%       77.545173  \n",
       "50%       84.664640  \n",
       "75%       91.484908  \n",
       "max       97.073622  "
      ]
     },
     "execution_count": 18,
     "metadata": {},
     "output_type": "execute_result"
    }
   ],
   "source": [
    "df.describe()"
   ]
  },
  {
   "cell_type": "code",
   "execution_count": 19,
   "metadata": {},
   "outputs": [],
   "source": [
    "import matplotlib\n",
    "import matplotlib.pyplot as plt\n",
    "\n",
    "plt.rcParams['axes.prop_cycle'] = matplotlib.cycler(color=['#cc444b', '#e89005'])"
   ]
  },
  {
   "cell_type": "code",
   "execution_count": 20,
   "metadata": {},
   "outputs": [
    {
     "data": {
      "image/png": "[encoded data removed]",
      "text/plain": [
       "<Figure size 640x480 with 4 Axes>"
      ]
     },
     "metadata": {},
     "output_type": "display_data"
    }
   ],
   "source": [
    "from statsmodels.tsa.seasonal import seasonal_decompose\n",
    "\n",
    "seasonal_decompose(df['vol'], period=365).plot()\n",
    "plt.show()"
   ]
  },
  {
   "cell_type": "code",
   "execution_count": 21,
   "metadata": {},
   "outputs": [
    {
     "data": {
      "text/html": [
       "<div>\n",
       "<style scoped>\n",
       "    .dataframe tbody tr th:only-of-type {\n",
       "        vertical-align: middle;\n",
       "    }\n",
       "\n",
       "    .dataframe tbody tr th {\n",
       "        vertical-align: top;\n",
       "    }\n",
       "\n",
       "    .dataframe thead th {\n",
       "        text-align: right;\n",
       "    }\n",
       "</style>\n",
       "<table border=\"1\" class=\"dataframe\">\n",
       "  <thead>\n",
       "    <tr style=\"text-align: right;\">\n",
       "      <th></th>\n",
       "      <th>box_id</th>\n",
       "      <th>temperature</th>\n",
       "      <th>vol</th>\n",
       "      <th>battery_soc</th>\n",
       "      <th>soc</th>\n",
       "      <th>soc_2</th>\n",
       "    </tr>\n",
       "    <tr>\n",
       "      <th>event_time</th>\n",
       "      <th></th>\n",
       "      <th></th>\n",
       "      <th></th>\n",
       "      <th></th>\n",
       "      <th></th>\n",
       "      <th></th>\n",
       "    </tr>\n",
       "  </thead>\n",
       "  <tbody>\n",
       "    <tr>\n",
       "      <th>2024-11-02 13:34:00</th>\n",
       "      <td>7832.0</td>\n",
       "      <td>31.280000</td>\n",
       "      <td>3.96000</td>\n",
       "      <td>64.330000</td>\n",
       "      <td>86.357805</td>\n",
       "      <td>83.627556</td>\n",
       "    </tr>\n",
       "    <tr>\n",
       "      <th>2024-11-02 13:35:00</th>\n",
       "      <td>7832.0</td>\n",
       "      <td>31.504444</td>\n",
       "      <td>3.84304</td>\n",
       "      <td>48.088889</td>\n",
       "      <td>76.902486</td>\n",
       "      <td>73.881657</td>\n",
       "    </tr>\n",
       "    <tr>\n",
       "      <th>2024-11-02 13:36:00</th>\n",
       "      <td>7832.0</td>\n",
       "      <td>34.880000</td>\n",
       "      <td>3.98004</td>\n",
       "      <td>72.810000</td>\n",
       "      <td>87.523125</td>\n",
       "      <td>85.008249</td>\n",
       "    </tr>\n",
       "    <tr>\n",
       "      <th>2024-11-02 13:37:00</th>\n",
       "      <td>7832.0</td>\n",
       "      <td>35.980000</td>\n",
       "      <td>3.99000</td>\n",
       "      <td>72.940000</td>\n",
       "      <td>88.079383</td>\n",
       "      <td>85.680280</td>\n",
       "    </tr>\n",
       "    <tr>\n",
       "      <th>2024-11-02 13:38:00</th>\n",
       "      <td>7832.0</td>\n",
       "      <td>37.030000</td>\n",
       "      <td>3.99696</td>\n",
       "      <td>73.150000</td>\n",
       "      <td>88.459348</td>\n",
       "      <td>86.144465</td>\n",
       "    </tr>\n",
       "  </tbody>\n",
       "</table>\n",
       "</div>"
      ],
      "text/plain": [
       "                     box_id  temperature      vol  battery_soc        soc  \\\n",
       "event_time                                                                  \n",
       "2024-11-02 13:34:00  7832.0    31.280000  3.96000    64.330000  86.357805   \n",
       "2024-11-02 13:35:00  7832.0    31.504444  3.84304    48.088889  76.902486   \n",
       "2024-11-02 13:36:00  7832.0    34.880000  3.98004    72.810000  87.523125   \n",
       "2024-11-02 13:37:00  7832.0    35.980000  3.99000    72.940000  88.079383   \n",
       "2024-11-02 13:38:00  7832.0    37.030000  3.99696    73.150000  88.459348   \n",
       "\n",
       "                         soc_2  \n",
       "event_time                      \n",
       "2024-11-02 13:34:00  83.627556  \n",
       "2024-11-02 13:35:00  73.881657  \n",
       "2024-11-02 13:36:00  85.008249  \n",
       "2024-11-02 13:37:00  85.680280  \n",
       "2024-11-02 13:38:00  86.144465  "
      ]
     },
     "execution_count": 21,
     "metadata": {},
     "output_type": "execute_result"
    }
   ],
   "source": [
    "va = df.resample('T').mean()\n",
    "va.head()"
   ]
  },
  {
   "cell_type": "code",
   "execution_count": 22,
   "metadata": {},
   "outputs": [
    {
     "data": {
      "text/html": [
       "<div>\n",
       "<style scoped>\n",
       "    .dataframe tbody tr th:only-of-type {\n",
       "        vertical-align: middle;\n",
       "    }\n",
       "\n",
       "    .dataframe tbody tr th {\n",
       "        vertical-align: top;\n",
       "    }\n",
       "\n",
       "    .dataframe thead th {\n",
       "        text-align: right;\n",
       "    }\n",
       "</style>\n",
       "<table border=\"1\" class=\"dataframe\">\n",
       "  <thead>\n",
       "    <tr style=\"text-align: right;\">\n",
       "      <th></th>\n",
       "      <th>box_id</th>\n",
       "      <th>temperature</th>\n",
       "      <th>vol</th>\n",
       "      <th>battery_soc</th>\n",
       "      <th>soc</th>\n",
       "      <th>soc_2</th>\n",
       "    </tr>\n",
       "    <tr>\n",
       "      <th>event_time</th>\n",
       "      <th></th>\n",
       "      <th></th>\n",
       "      <th></th>\n",
       "      <th></th>\n",
       "      <th></th>\n",
       "      <th></th>\n",
       "    </tr>\n",
       "  </thead>\n",
       "  <tbody>\n",
       "    <tr>\n",
       "      <th>2024-11-06 13:57:00</th>\n",
       "      <td>7832.0</td>\n",
       "      <td>34.54</td>\n",
       "      <td>3.85296</td>\n",
       "      <td>58.72</td>\n",
       "      <td>78.964605</td>\n",
       "      <td>75.528089</td>\n",
       "    </tr>\n",
       "    <tr>\n",
       "      <th>2024-11-06 13:58:00</th>\n",
       "      <td>7832.0</td>\n",
       "      <td>34.56</td>\n",
       "      <td>3.85296</td>\n",
       "      <td>58.60</td>\n",
       "      <td>78.964605</td>\n",
       "      <td>75.528089</td>\n",
       "    </tr>\n",
       "    <tr>\n",
       "      <th>2024-11-06 13:59:00</th>\n",
       "      <td>7832.0</td>\n",
       "      <td>34.55</td>\n",
       "      <td>3.85296</td>\n",
       "      <td>58.57</td>\n",
       "      <td>78.964605</td>\n",
       "      <td>75.528089</td>\n",
       "    </tr>\n",
       "    <tr>\n",
       "      <th>2024-11-06 14:00:00</th>\n",
       "      <td>7832.0</td>\n",
       "      <td>34.56</td>\n",
       "      <td>3.85104</td>\n",
       "      <td>58.50</td>\n",
       "      <td>78.812187</td>\n",
       "      <td>75.370364</td>\n",
       "    </tr>\n",
       "    <tr>\n",
       "      <th>2024-11-06 14:01:00</th>\n",
       "      <td>7832.0</td>\n",
       "      <td>34.59</td>\n",
       "      <td>3.85104</td>\n",
       "      <td>58.43</td>\n",
       "      <td>78.812187</td>\n",
       "      <td>75.370364</td>\n",
       "    </tr>\n",
       "  </tbody>\n",
       "</table>\n",
       "</div>"
      ],
      "text/plain": [
       "                     box_id  temperature      vol  battery_soc        soc  \\\n",
       "event_time                                                                  \n",
       "2024-11-06 13:57:00  7832.0        34.54  3.85296        58.72  78.964605   \n",
       "2024-11-06 13:58:00  7832.0        34.56  3.85296        58.60  78.964605   \n",
       "2024-11-06 13:59:00  7832.0        34.55  3.85296        58.57  78.964605   \n",
       "2024-11-06 14:00:00  7832.0        34.56  3.85104        58.50  78.812187   \n",
       "2024-11-06 14:01:00  7832.0        34.59  3.85104        58.43  78.812187   \n",
       "\n",
       "                         soc_2  \n",
       "event_time                      \n",
       "2024-11-06 13:57:00  75.528089  \n",
       "2024-11-06 13:58:00  75.528089  \n",
       "2024-11-06 13:59:00  75.528089  \n",
       "2024-11-06 14:00:00  75.370364  \n",
       "2024-11-06 14:01:00  75.370364  "
      ]
     },
     "execution_count": 22,
     "metadata": {},
     "output_type": "execute_result"
    }
   ],
   "source": [
    "va.tail()"
   ]
  },
  {
   "cell_type": "code",
   "execution_count": 23,
   "metadata": {
    "scrolled": true
   },
   "outputs": [
    {
     "name": "stdout",
     "output_type": "stream",
     "text": [
      "<class 'pandas.core.frame.DataFrame'>\n",
      "DatetimeIndex: 5788 entries, 2024-11-02 13:34:00 to 2024-11-06 14:01:00\n",
      "Freq: T\n",
      "Data columns (total 6 columns):\n",
      " #   Column       Non-Null Count  Dtype  \n",
      "---  ------       --------------  -----  \n",
      " 0   box_id       5569 non-null   float64\n",
      " 1   temperature  5569 non-null   float64\n",
      " 2   vol          5569 non-null   float64\n",
      " 3   battery_soc  5569 non-null   float64\n",
      " 4   soc          5569 non-null   float64\n",
      " 5   soc_2        5569 non-null   float64\n",
      "dtypes: float64(6)\n",
      "memory usage: 316.5 KB\n"
     ]
    },
    {
     "data": {
      "text/plain": [
       "(box_id         219\n",
       " temperature    219\n",
       " vol            219\n",
       " battery_soc    219\n",
       " soc            219\n",
       " soc_2          219\n",
       " dtype: int64,\n",
       " None)"
      ]
     },
     "execution_count": 23,
     "metadata": {},
     "output_type": "execute_result"
    }
   ],
   "source": [
    "va.isna().sum(), va.info()"
   ]
  },
  {
   "cell_type": "code",
   "execution_count": 24,
   "metadata": {},
   "outputs": [],
   "source": [
    "va = va.ffill()\n",
    "# df_ip = df.resample('T').mean().interpolate(method='linear')"
   ]
  },
  {
   "cell_type": "code",
   "execution_count": 25,
   "metadata": {},
   "outputs": [
    {
     "name": "stdout",
     "output_type": "stream",
     "text": [
      "<class 'pandas.core.frame.DataFrame'>\n",
      "DatetimeIndex: 5788 entries, 2024-11-02 13:34:00 to 2024-11-06 14:01:00\n",
      "Freq: T\n",
      "Data columns (total 6 columns):\n",
      " #   Column       Non-Null Count  Dtype  \n",
      "---  ------       --------------  -----  \n",
      " 0   box_id       5788 non-null   float64\n",
      " 1   temperature  5788 non-null   float64\n",
      " 2   vol          5788 non-null   float64\n",
      " 3   battery_soc  5788 non-null   float64\n",
      " 4   soc          5788 non-null   float64\n",
      " 5   soc_2        5788 non-null   float64\n",
      "dtypes: float64(6)\n",
      "memory usage: 316.5 KB\n"
     ]
    },
    {
     "data": {
      "text/plain": [
       "(box_id         0\n",
       " temperature    0\n",
       " vol            0\n",
       " battery_soc    0\n",
       " soc            0\n",
       " soc_2          0\n",
       " dtype: int64,\n",
       " None)"
      ]
     },
     "execution_count": 25,
     "metadata": {},
     "output_type": "execute_result"
    }
   ],
   "source": [
    "va.isna().sum(), va.info()"
   ]
  },
  {
   "cell_type": "code",
   "execution_count": 26,
   "metadata": {
    "scrolled": true
   },
   "outputs": [
    {
     "data": {
      "text/plain": [
       "box_id         0\n",
       "temperature    0\n",
       "vol            0\n",
       "battery_soc    0\n",
       "soc            0\n",
       "soc_2          0\n",
       "dtype: int64"
      ]
     },
     "execution_count": 26,
     "metadata": {},
     "output_type": "execute_result"
    }
   ],
   "source": [
    "va.isna().sum()"
   ]
  },
  {
   "cell_type": "code",
   "execution_count": 27,
   "metadata": {},
   "outputs": [],
   "source": [
    "def voltage_average(data, window):\n",
    "    actual = data['vol'][-(window+30):]\n",
    "    va = data['vol'].rolling(window).mean()[-(window+30):]\n",
    "    \n",
    "    plt.figure(figsize=(20,8))\n",
    "    actual.plot(label='Actual', lw=4)\n",
    "    va.plot(label='VA-{}'.format(str(window)), ls='--', lw=2)\n",
    "    plt.title('Last {}-Minutes Voltage Average'.format(str(window)), weight='bold', fontsize=20)\n",
    "    plt.legend()"
   ]
  },
  {
   "cell_type": "code",
   "execution_count": 28,
   "metadata": {
    "scrolled": true
   },
   "outputs": [
    {
     "data": {
      "image/png": "[encoded data removed]",
      "text/plain": [
       "<Figure size 2000x800 with 1 Axes>"
      ]
     },
     "metadata": {},
     "output_type": "display_data"
    }
   ],
   "source": [
    "voltage_average(va, 60)"
   ]
  },
  {
   "cell_type": "code",
   "execution_count": 29,
   "metadata": {},
   "outputs": [],
   "source": [
    "def soc_average(data, window):\n",
    "    actual = data['soc'][-(window+30):]\n",
    "    va = data['soc'].rolling(window).mean()[-(window+30):]\n",
    "    \n",
    "    plt.figure(figsize=(20,8))\n",
    "    actual.plot(label='Actual', lw=4)\n",
    "    va.plot(label='SA-{}'.format(str(window)), ls='--', lw=2)\n",
    "    plt.title('Last {}-Minutes SoC Average'.format(str(window)), weight='bold', fontsize=20)\n",
    "    plt.legend()"
   ]
  },
  {
   "cell_type": "markdown",
   "metadata": {},
   "source": [
    "### Train / Test Split"
   ]
  },
  {
   "cell_type": "code",
   "execution_count": 31,
   "metadata": {},
   "outputs": [],
   "source": [
    "split_date = '2024-11-06'\n",
    "vol_train = va.loc[va.index <= split_date].copy()\n",
    "vol_test = va.loc[va.index > split_date].copy()"
   ]
  },
  {
   "cell_type": "code",
   "execution_count": 32,
   "metadata": {
    "scrolled": true
   },
   "outputs": [],
   "source": [
    "# df_train, df_test = va[va.index < '2024-11-06'], va[va.index >= '2024-11-06']"
   ]
  },
  {
   "cell_type": "code",
   "execution_count": 33,
   "metadata": {},
   "outputs": [
    {
     "name": "stdout",
     "output_type": "stream",
     "text": [
      "Train:\t 4947\n",
      "Test:\t 841\n"
     ]
    }
   ],
   "source": [
    "print('Train:\\t', len(vol_train))\n",
    "print('Test:\\t', len(vol_test))"
   ]
  },
  {
   "cell_type": "code",
   "execution_count": 36,
   "metadata": {},
   "outputs": [
    {
     "data": {
      "text/html": [
       "<div>\n",
       "<style scoped>\n",
       "    .dataframe tbody tr th:only-of-type {\n",
       "        vertical-align: middle;\n",
       "    }\n",
       "\n",
       "    .dataframe tbody tr th {\n",
       "        vertical-align: top;\n",
       "    }\n",
       "\n",
       "    .dataframe thead th {\n",
       "        text-align: right;\n",
       "    }\n",
       "</style>\n",
       "<table border=\"1\" class=\"dataframe\">\n",
       "  <thead>\n",
       "    <tr style=\"text-align: right;\">\n",
       "      <th></th>\n",
       "      <th>box_id</th>\n",
       "      <th>temperature</th>\n",
       "      <th>vol</th>\n",
       "      <th>battery_soc</th>\n",
       "      <th>soc</th>\n",
       "      <th>soc_2</th>\n",
       "    </tr>\n",
       "    <tr>\n",
       "      <th>event_time</th>\n",
       "      <th></th>\n",
       "      <th></th>\n",
       "      <th></th>\n",
       "      <th></th>\n",
       "      <th></th>\n",
       "      <th></th>\n",
       "    </tr>\n",
       "  </thead>\n",
       "  <tbody>\n",
       "    <tr>\n",
       "      <th>2024-11-02 13:34:00</th>\n",
       "      <td>7832.0</td>\n",
       "      <td>31.280000</td>\n",
       "      <td>3.96000</td>\n",
       "      <td>64.330000</td>\n",
       "      <td>86.357805</td>\n",
       "      <td>83.627556</td>\n",
       "    </tr>\n",
       "    <tr>\n",
       "      <th>2024-11-02 13:35:00</th>\n",
       "      <td>7832.0</td>\n",
       "      <td>31.504444</td>\n",
       "      <td>3.84304</td>\n",
       "      <td>48.088889</td>\n",
       "      <td>76.902486</td>\n",
       "      <td>73.881657</td>\n",
       "    </tr>\n",
       "    <tr>\n",
       "      <th>2024-11-02 13:36:00</th>\n",
       "      <td>7832.0</td>\n",
       "      <td>34.880000</td>\n",
       "      <td>3.98004</td>\n",
       "      <td>72.810000</td>\n",
       "      <td>87.523125</td>\n",
       "      <td>85.008249</td>\n",
       "    </tr>\n",
       "    <tr>\n",
       "      <th>2024-11-02 13:37:00</th>\n",
       "      <td>7832.0</td>\n",
       "      <td>35.980000</td>\n",
       "      <td>3.99000</td>\n",
       "      <td>72.940000</td>\n",
       "      <td>88.079383</td>\n",
       "      <td>85.680280</td>\n",
       "    </tr>\n",
       "    <tr>\n",
       "      <th>2024-11-02 13:38:00</th>\n",
       "      <td>7832.0</td>\n",
       "      <td>37.030000</td>\n",
       "      <td>3.99696</td>\n",
       "      <td>73.150000</td>\n",
       "      <td>88.459348</td>\n",
       "      <td>86.144465</td>\n",
       "    </tr>\n",
       "  </tbody>\n",
       "</table>\n",
       "</div>"
      ],
      "text/plain": [
       "                     box_id  temperature      vol  battery_soc        soc  \\\n",
       "event_time                                                                  \n",
       "2024-11-02 13:34:00  7832.0    31.280000  3.96000    64.330000  86.357805   \n",
       "2024-11-02 13:35:00  7832.0    31.504444  3.84304    48.088889  76.902486   \n",
       "2024-11-02 13:36:00  7832.0    34.880000  3.98004    72.810000  87.523125   \n",
       "2024-11-02 13:37:00  7832.0    35.980000  3.99000    72.940000  88.079383   \n",
       "2024-11-02 13:38:00  7832.0    37.030000  3.99696    73.150000  88.459348   \n",
       "\n",
       "                         soc_2  \n",
       "event_time                      \n",
       "2024-11-02 13:34:00  83.627556  \n",
       "2024-11-02 13:35:00  73.881657  \n",
       "2024-11-02 13:36:00  85.008249  \n",
       "2024-11-02 13:37:00  85.680280  \n",
       "2024-11-02 13:38:00  86.144465  "
      ]
     },
     "execution_count": 36,
     "metadata": {},
     "output_type": "execute_result"
    }
   ],
   "source": [
    "vol_train.head()"
   ]
  },
  {
   "cell_type": "code",
   "execution_count": 37,
   "metadata": {},
   "outputs": [
    {
     "data": {
      "text/html": [
       "<div>\n",
       "<style scoped>\n",
       "    .dataframe tbody tr th:only-of-type {\n",
       "        vertical-align: middle;\n",
       "    }\n",
       "\n",
       "    .dataframe tbody tr th {\n",
       "        vertical-align: top;\n",
       "    }\n",
       "\n",
       "    .dataframe thead th {\n",
       "        text-align: right;\n",
       "    }\n",
       "</style>\n",
       "<table border=\"1\" class=\"dataframe\">\n",
       "  <thead>\n",
       "    <tr style=\"text-align: right;\">\n",
       "      <th></th>\n",
       "      <th>box_id</th>\n",
       "      <th>temperature</th>\n",
       "      <th>vol</th>\n",
       "      <th>battery_soc</th>\n",
       "      <th>soc</th>\n",
       "      <th>soc_2</th>\n",
       "    </tr>\n",
       "    <tr>\n",
       "      <th>event_time</th>\n",
       "      <th></th>\n",
       "      <th></th>\n",
       "      <th></th>\n",
       "      <th></th>\n",
       "      <th></th>\n",
       "      <th></th>\n",
       "    </tr>\n",
       "  </thead>\n",
       "  <tbody>\n",
       "    <tr>\n",
       "      <th>2024-11-06 00:01:00</th>\n",
       "      <td>7832.0</td>\n",
       "      <td>35.07</td>\n",
       "      <td>3.76500</td>\n",
       "      <td>35.63</td>\n",
       "      <td>71.173609</td>\n",
       "      <td>67.765795</td>\n",
       "    </tr>\n",
       "    <tr>\n",
       "      <th>2024-11-06 00:02:00</th>\n",
       "      <td>7832.0</td>\n",
       "      <td>35.08</td>\n",
       "      <td>3.76500</td>\n",
       "      <td>35.57</td>\n",
       "      <td>71.173609</td>\n",
       "      <td>67.765795</td>\n",
       "    </tr>\n",
       "    <tr>\n",
       "      <th>2024-11-06 00:03:00</th>\n",
       "      <td>7832.0</td>\n",
       "      <td>35.08</td>\n",
       "      <td>3.76296</td>\n",
       "      <td>35.43</td>\n",
       "      <td>70.972495</td>\n",
       "      <td>67.571617</td>\n",
       "    </tr>\n",
       "    <tr>\n",
       "      <th>2024-11-06 00:04:00</th>\n",
       "      <td>7832.0</td>\n",
       "      <td>35.05</td>\n",
       "      <td>3.76296</td>\n",
       "      <td>35.32</td>\n",
       "      <td>70.972495</td>\n",
       "      <td>67.571617</td>\n",
       "    </tr>\n",
       "    <tr>\n",
       "      <th>2024-11-06 00:05:00</th>\n",
       "      <td>7832.0</td>\n",
       "      <td>35.00</td>\n",
       "      <td>3.75996</td>\n",
       "      <td>35.21</td>\n",
       "      <td>70.675000</td>\n",
       "      <td>67.284788</td>\n",
       "    </tr>\n",
       "  </tbody>\n",
       "</table>\n",
       "</div>"
      ],
      "text/plain": [
       "                     box_id  temperature      vol  battery_soc        soc  \\\n",
       "event_time                                                                  \n",
       "2024-11-06 00:01:00  7832.0        35.07  3.76500        35.63  71.173609   \n",
       "2024-11-06 00:02:00  7832.0        35.08  3.76500        35.57  71.173609   \n",
       "2024-11-06 00:03:00  7832.0        35.08  3.76296        35.43  70.972495   \n",
       "2024-11-06 00:04:00  7832.0        35.05  3.76296        35.32  70.972495   \n",
       "2024-11-06 00:05:00  7832.0        35.00  3.75996        35.21  70.675000   \n",
       "\n",
       "                         soc_2  \n",
       "event_time                      \n",
       "2024-11-06 00:01:00  67.765795  \n",
       "2024-11-06 00:02:00  67.765795  \n",
       "2024-11-06 00:03:00  67.571617  \n",
       "2024-11-06 00:04:00  67.571617  \n",
       "2024-11-06 00:05:00  67.284788  "
      ]
     },
     "execution_count": 37,
     "metadata": {},
     "output_type": "execute_result"
    }
   ],
   "source": [
    "vol_test.head()"
   ]
  },
  {
   "cell_type": "code",
   "execution_count": 38,
   "metadata": {
    "scrolled": true
   },
   "outputs": [
    {
     "data": {
      "image/png": "[encoded data removed]",
      "text/plain": [
       "<Figure size 1000x600 with 1 Axes>"
      ]
     },
     "metadata": {},
     "output_type": "display_data"
    }
   ],
   "source": [
    "import matplotlib.pyplot as plt\n",
    "import pandas as pd\n",
    "\n",
    "plt.figure(figsize=(10, 6))\n",
    "\n",
    "vol_train['vol'].plot(label='Training Set', color='blue')\n",
    "vol_test['vol'].plot(label='Test Set', color='orange')\n",
    "\n",
    "split_date = pd.to_datetime('2024-11-05 23:59:59')\n",
    "plt.axvline(split_date, color='black', ls='--', lw=3, label='Data Split')\n",
    "\n",
    "plt.text(split_date, vol_train['vol'].max(), 'Split', fontsize=15, fontweight='bold')\n",
    "\n",
    "plt.xlim(vol_train.index.min(), vol_test.index.max())\n",
    "\n",
    "plt.title('Data Splitting by Minute (Mean per Minute)', weight='bold', fontsize=20)\n",
    "plt.legend(loc='best')  \n",
    "\n",
    "plt.show()\n"
   ]
  },
  {
   "cell_type": "code",
   "execution_count": 39,
   "metadata": {
    "scrolled": true
   },
   "outputs": [],
   "source": [
    "# _ = vol_test \\\n",
    "#     .rename(columns={'vol': 'TEST SET'}) \\\n",
    "#     .join(vol_train.rename(columns={'vol': 'TRAINING SET'}), how='outer') \\\n",
    "#     .plot(figsize=(15,5), title='Voltage', style='.')"
   ]
  },
  {
   "cell_type": "code",
   "execution_count": 40,
   "metadata": {},
   "outputs": [
    {
     "data": {
      "text/plain": [
       "(Timestamp('2024-11-02 13:34:00'), Timestamp('2024-11-06 00:00:00'))"
      ]
     },
     "execution_count": 40,
     "metadata": {},
     "output_type": "execute_result"
    }
   ],
   "source": [
    "vol_train.index.min(), vol_train.index.max()"
   ]
  },
  {
   "cell_type": "code",
   "execution_count": 41,
   "metadata": {},
   "outputs": [
    {
     "data": {
      "text/plain": [
       "(Timestamp('2024-11-06 00:01:00'), Timestamp('2024-11-06 14:01:00'))"
      ]
     },
     "execution_count": 41,
     "metadata": {},
     "output_type": "execute_result"
    }
   ],
   "source": [
    "vol_test.index.min(), vol_test.index.max()"
   ]
  },
  {
   "cell_type": "markdown",
   "metadata": {},
   "source": [
    "## Building Models"
   ]
  },
  {
   "cell_type": "markdown",
   "metadata": {},
   "source": [
    "## 2. XGBoost\n",
    "\n",
    "XGBoost is short for Extreme Gradient Boosting and is an efficient implementation of the stochastic gradient boosting machine learning algorithm\n",
    "\n",
    "The stochastic gradient boosting algorithm, also called gradient boosting machines or tree boosting, is a powerful machine learning technique that performs well or even best on a wide range of challenging machine learning problems\n",
    "\n",
    "To be able to use XGBoost for time series forecasting, the data should be transformed into supervised learning before feeding it into the model\n",
    "\n",
    "Official Documentation: [Here](https://xgboost.readthedocs.io/en/stable/python/python_api.html)\n",
    "\n",
    "Helpful Resources:\n",
    "\n",
    " - https://machinelearningmastery.com/xgboost-for-time-series-forecasting/\n",
    " - https://www.kaggle.com/code/robikscube/tutorial-time-series-forecasting-with-xgboost\n"
   ]
  },
  {
   "cell_type": "code",
   "execution_count": 48,
   "metadata": {},
   "outputs": [],
   "source": [
    "def create_features(df, label=None):\n",
    "    \"\"\"\n",
    "    Creates time series features from datetime index\n",
    "    \"\"\"\n",
    "    df['date'] = df.index\n",
    "    df['hour'] = df['date'].dt.hour\n",
    "    df['dayofweek'] = df['date'].dt.dayofweek\n",
    "    df['quarter'] = df['date'].dt.quarter\n",
    "    df['month'] = df['date'].dt.month\n",
    "    df['year'] = df['date'].dt.year\n",
    "    df['dayofyear'] = df['date'].dt.dayofyear\n",
    "    df['dayofmonth'] = df['date'].dt.day\n",
    "    df['weekofyear'] = df['date'].dt.isocalendar().week\n",
    "\n",
    "    X = df[['hour', 'dayofweek', 'quarter', 'month', 'year',\n",
    "            'dayofyear', 'dayofmonth', 'weekofyear']]\n",
    "    if label:\n",
    "        y = df[label]\n",
    "        return X, y\n",
    "    return X\n"
   ]
  },
  {
   "cell_type": "code",
   "execution_count": 50,
   "metadata": {
    "scrolled": true
   },
   "outputs": [],
   "source": [
    "X_train, y_train = create_features(vol_train, label='vol')\n",
    "X_test, y_test = create_features(vol_test, label='vol')"
   ]
  },
  {
   "cell_type": "code",
   "execution_count": 51,
   "metadata": {},
   "outputs": [
    {
     "data": {
      "text/html": [
       "<div>\n",
       "<style scoped>\n",
       "    .dataframe tbody tr th:only-of-type {\n",
       "        vertical-align: middle;\n",
       "    }\n",
       "\n",
       "    .dataframe tbody tr th {\n",
       "        vertical-align: top;\n",
       "    }\n",
       "\n",
       "    .dataframe thead th {\n",
       "        text-align: right;\n",
       "    }\n",
       "</style>\n",
       "<table border=\"1\" class=\"dataframe\">\n",
       "  <thead>\n",
       "    <tr style=\"text-align: right;\">\n",
       "      <th></th>\n",
       "      <th>hour</th>\n",
       "      <th>dayofweek</th>\n",
       "      <th>quarter</th>\n",
       "      <th>month</th>\n",
       "      <th>year</th>\n",
       "      <th>dayofyear</th>\n",
       "      <th>dayofmonth</th>\n",
       "      <th>weekofyear</th>\n",
       "    </tr>\n",
       "    <tr>\n",
       "      <th>event_time</th>\n",
       "      <th></th>\n",
       "      <th></th>\n",
       "      <th></th>\n",
       "      <th></th>\n",
       "      <th></th>\n",
       "      <th></th>\n",
       "      <th></th>\n",
       "      <th></th>\n",
       "    </tr>\n",
       "  </thead>\n",
       "  <tbody>\n",
       "    <tr>\n",
       "      <th>2024-11-02 13:34:00</th>\n",
       "      <td>13</td>\n",
       "      <td>5</td>\n",
       "      <td>4</td>\n",
       "      <td>11</td>\n",
       "      <td>2024</td>\n",
       "      <td>307</td>\n",
       "      <td>2</td>\n",
       "      <td>44</td>\n",
       "    </tr>\n",
       "    <tr>\n",
       "      <th>2024-11-02 13:35:00</th>\n",
       "      <td>13</td>\n",
       "      <td>5</td>\n",
       "      <td>4</td>\n",
       "      <td>11</td>\n",
       "      <td>2024</td>\n",
       "      <td>307</td>\n",
       "      <td>2</td>\n",
       "      <td>44</td>\n",
       "    </tr>\n",
       "    <tr>\n",
       "      <th>2024-11-02 13:36:00</th>\n",
       "      <td>13</td>\n",
       "      <td>5</td>\n",
       "      <td>4</td>\n",
       "      <td>11</td>\n",
       "      <td>2024</td>\n",
       "      <td>307</td>\n",
       "      <td>2</td>\n",
       "      <td>44</td>\n",
       "    </tr>\n",
       "    <tr>\n",
       "      <th>2024-11-02 13:37:00</th>\n",
       "      <td>13</td>\n",
       "      <td>5</td>\n",
       "      <td>4</td>\n",
       "      <td>11</td>\n",
       "      <td>2024</td>\n",
       "      <td>307</td>\n",
       "      <td>2</td>\n",
       "      <td>44</td>\n",
       "    </tr>\n",
       "    <tr>\n",
       "      <th>2024-11-02 13:38:00</th>\n",
       "      <td>13</td>\n",
       "      <td>5</td>\n",
       "      <td>4</td>\n",
       "      <td>11</td>\n",
       "      <td>2024</td>\n",
       "      <td>307</td>\n",
       "      <td>2</td>\n",
       "      <td>44</td>\n",
       "    </tr>\n",
       "  </tbody>\n",
       "</table>\n",
       "</div>"
      ],
      "text/plain": [
       "                     hour  dayofweek  quarter  month  year  dayofyear  \\\n",
       "event_time                                                              \n",
       "2024-11-02 13:34:00    13          5        4     11  2024        307   \n",
       "2024-11-02 13:35:00    13          5        4     11  2024        307   \n",
       "2024-11-02 13:36:00    13          5        4     11  2024        307   \n",
       "2024-11-02 13:37:00    13          5        4     11  2024        307   \n",
       "2024-11-02 13:38:00    13          5        4     11  2024        307   \n",
       "\n",
       "                     dayofmonth  weekofyear  \n",
       "event_time                                   \n",
       "2024-11-02 13:34:00           2          44  \n",
       "2024-11-02 13:35:00           2          44  \n",
       "2024-11-02 13:36:00           2          44  \n",
       "2024-11-02 13:37:00           2          44  \n",
       "2024-11-02 13:38:00           2          44  "
      ]
     },
     "execution_count": 51,
     "metadata": {},
     "output_type": "execute_result"
    }
   ],
   "source": [
    "X_train.head()"
   ]
  },
  {
   "cell_type": "code",
   "execution_count": 52,
   "metadata": {},
   "outputs": [
    {
     "data": {
      "text/html": [
       "<div>\n",
       "<style scoped>\n",
       "    .dataframe tbody tr th:only-of-type {\n",
       "        vertical-align: middle;\n",
       "    }\n",
       "\n",
       "    .dataframe tbody tr th {\n",
       "        vertical-align: top;\n",
       "    }\n",
       "\n",
       "    .dataframe thead th {\n",
       "        text-align: right;\n",
       "    }\n",
       "</style>\n",
       "<table border=\"1\" class=\"dataframe\">\n",
       "  <thead>\n",
       "    <tr style=\"text-align: right;\">\n",
       "      <th></th>\n",
       "      <th>box_id</th>\n",
       "      <th>temperature</th>\n",
       "      <th>vol</th>\n",
       "      <th>battery_soc</th>\n",
       "      <th>soc</th>\n",
       "      <th>soc_2</th>\n",
       "      <th>date</th>\n",
       "      <th>hour</th>\n",
       "      <th>dayofweek</th>\n",
       "      <th>quarter</th>\n",
       "      <th>month</th>\n",
       "      <th>year</th>\n",
       "      <th>dayofyear</th>\n",
       "      <th>dayofmonth</th>\n",
       "      <th>weekofyear</th>\n",
       "    </tr>\n",
       "    <tr>\n",
       "      <th>event_time</th>\n",
       "      <th></th>\n",
       "      <th></th>\n",
       "      <th></th>\n",
       "      <th></th>\n",
       "      <th></th>\n",
       "      <th></th>\n",
       "      <th></th>\n",
       "      <th></th>\n",
       "      <th></th>\n",
       "      <th></th>\n",
       "      <th></th>\n",
       "      <th></th>\n",
       "      <th></th>\n",
       "      <th></th>\n",
       "      <th></th>\n",
       "    </tr>\n",
       "  </thead>\n",
       "  <tbody>\n",
       "    <tr>\n",
       "      <th>2024-11-02 13:34:00</th>\n",
       "      <td>7832.0</td>\n",
       "      <td>31.280000</td>\n",
       "      <td>3.96000</td>\n",
       "      <td>64.330000</td>\n",
       "      <td>86.357805</td>\n",
       "      <td>83.627556</td>\n",
       "      <td>2024-11-02 13:34:00</td>\n",
       "      <td>13</td>\n",
       "      <td>5</td>\n",
       "      <td>4</td>\n",
       "      <td>11</td>\n",
       "      <td>2024</td>\n",
       "      <td>307</td>\n",
       "      <td>2</td>\n",
       "      <td>44</td>\n",
       "    </tr>\n",
       "    <tr>\n",
       "      <th>2024-11-02 13:35:00</th>\n",
       "      <td>7832.0</td>\n",
       "      <td>31.504444</td>\n",
       "      <td>3.84304</td>\n",
       "      <td>48.088889</td>\n",
       "      <td>76.902486</td>\n",
       "      <td>73.881657</td>\n",
       "      <td>2024-11-02 13:35:00</td>\n",
       "      <td>13</td>\n",
       "      <td>5</td>\n",
       "      <td>4</td>\n",
       "      <td>11</td>\n",
       "      <td>2024</td>\n",
       "      <td>307</td>\n",
       "      <td>2</td>\n",
       "      <td>44</td>\n",
       "    </tr>\n",
       "    <tr>\n",
       "      <th>2024-11-02 13:36:00</th>\n",
       "      <td>7832.0</td>\n",
       "      <td>34.880000</td>\n",
       "      <td>3.98004</td>\n",
       "      <td>72.810000</td>\n",
       "      <td>87.523125</td>\n",
       "      <td>85.008249</td>\n",
       "      <td>2024-11-02 13:36:00</td>\n",
       "      <td>13</td>\n",
       "      <td>5</td>\n",
       "      <td>4</td>\n",
       "      <td>11</td>\n",
       "      <td>2024</td>\n",
       "      <td>307</td>\n",
       "      <td>2</td>\n",
       "      <td>44</td>\n",
       "    </tr>\n",
       "    <tr>\n",
       "      <th>2024-11-02 13:37:00</th>\n",
       "      <td>7832.0</td>\n",
       "      <td>35.980000</td>\n",
       "      <td>3.99000</td>\n",
       "      <td>72.940000</td>\n",
       "      <td>88.079383</td>\n",
       "      <td>85.680280</td>\n",
       "      <td>2024-11-02 13:37:00</td>\n",
       "      <td>13</td>\n",
       "      <td>5</td>\n",
       "      <td>4</td>\n",
       "      <td>11</td>\n",
       "      <td>2024</td>\n",
       "      <td>307</td>\n",
       "      <td>2</td>\n",
       "      <td>44</td>\n",
       "    </tr>\n",
       "    <tr>\n",
       "      <th>2024-11-02 13:38:00</th>\n",
       "      <td>7832.0</td>\n",
       "      <td>37.030000</td>\n",
       "      <td>3.99696</td>\n",
       "      <td>73.150000</td>\n",
       "      <td>88.459348</td>\n",
       "      <td>86.144465</td>\n",
       "      <td>2024-11-02 13:38:00</td>\n",
       "      <td>13</td>\n",
       "      <td>5</td>\n",
       "      <td>4</td>\n",
       "      <td>11</td>\n",
       "      <td>2024</td>\n",
       "      <td>307</td>\n",
       "      <td>2</td>\n",
       "      <td>44</td>\n",
       "    </tr>\n",
       "  </tbody>\n",
       "</table>\n",
       "</div>"
      ],
      "text/plain": [
       "                     box_id  temperature      vol  battery_soc        soc  \\\n",
       "event_time                                                                  \n",
       "2024-11-02 13:34:00  7832.0    31.280000  3.96000    64.330000  86.357805   \n",
       "2024-11-02 13:35:00  7832.0    31.504444  3.84304    48.088889  76.902486   \n",
       "2024-11-02 13:36:00  7832.0    34.880000  3.98004    72.810000  87.523125   \n",
       "2024-11-02 13:37:00  7832.0    35.980000  3.99000    72.940000  88.079383   \n",
       "2024-11-02 13:38:00  7832.0    37.030000  3.99696    73.150000  88.459348   \n",
       "\n",
       "                         soc_2                date  hour  dayofweek  quarter  \\\n",
       "event_time                                                                     \n",
       "2024-11-02 13:34:00  83.627556 2024-11-02 13:34:00    13          5        4   \n",
       "2024-11-02 13:35:00  73.881657 2024-11-02 13:35:00    13          5        4   \n",
       "2024-11-02 13:36:00  85.008249 2024-11-02 13:36:00    13          5        4   \n",
       "2024-11-02 13:37:00  85.680280 2024-11-02 13:37:00    13          5        4   \n",
       "2024-11-02 13:38:00  86.144465 2024-11-02 13:38:00    13          5        4   \n",
       "\n",
       "                     month  year  dayofyear  dayofmonth  weekofyear  \n",
       "event_time                                                           \n",
       "2024-11-02 13:34:00     11  2024        307           2          44  \n",
       "2024-11-02 13:35:00     11  2024        307           2          44  \n",
       "2024-11-02 13:36:00     11  2024        307           2          44  \n",
       "2024-11-02 13:37:00     11  2024        307           2          44  \n",
       "2024-11-02 13:38:00     11  2024        307           2          44  "
      ]
     },
     "execution_count": 52,
     "metadata": {},
     "output_type": "execute_result"
    }
   ],
   "source": [
    "vol_train.head()"
   ]
  },
  {
   "cell_type": "code",
   "execution_count": 53,
   "metadata": {},
   "outputs": [],
   "source": [
    "import xgboost as xgb\n",
    "from xgboost import XGBRegressor\n",
    "from xgboost import plot_importance, plot_tree"
   ]
  },
  {
   "cell_type": "code",
   "execution_count": 54,
   "metadata": {},
   "outputs": [
    {
     "data": {
      "text/html": [
       "<style>#sk-container-id-1 {color: black;}#sk-container-id-1 pre{padding: 0;}#sk-container-id-1 div.sk-toggleable {background-color: white;}#sk-container-id-1 label.sk-toggleable__label {cursor: pointer;display: block;width: 100%;margin-bottom: 0;padding: 0.3em;box-sizing: border-box;text-align: center;}#sk-container-id-1 label.sk-toggleable__label-arrow:before {content: \"▸\";float: left;margin-right: 0.25em;color: #696969;}#sk-container-id-1 label.sk-toggleable__label-arrow:hover:before {color: black;}#sk-container-id-1 div.sk-estimator:hover label.sk-toggleable__label-arrow:before {color: black;}#sk-container-id-1 div.sk-toggleable__content {max-height: 0;max-width: 0;overflow: hidden;text-align: left;background-color: #f0f8ff;}#sk-container-id-1 div.sk-toggleable__content pre {margin: 0.2em;color: black;border-radius: 0.25em;background-color: #f0f8ff;}#sk-container-id-1 input.sk-toggleable__control:checked~div.sk-toggleable__content {max-height: 200px;max-width: 100%;overflow: auto;}#sk-container-id-1 input.sk-toggleable__control:checked~label.sk-toggleable__label-arrow:before {content: \"▾\";}#sk-container-id-1 div.sk-estimator input.sk-toggleable__control:checked~label.sk-toggleable__label {background-color: #d4ebff;}#sk-container-id-1 div.sk-label input.sk-toggleable__control:checked~label.sk-toggleable__label {background-color: #d4ebff;}#sk-container-id-1 input.sk-hidden--visually {border: 0;clip: rect(1px 1px 1px 1px);clip: rect(1px, 1px, 1px, 1px);height: 1px;margin: -1px;overflow: hidden;padding: 0;position: absolute;width: 1px;}#sk-container-id-1 div.sk-estimator {font-family: monospace;background-color: #f0f8ff;border: 1px dotted black;border-radius: 0.25em;box-sizing: border-box;margin-bottom: 0.5em;}#sk-container-id-1 div.sk-estimator:hover {background-color: #d4ebff;}#sk-container-id-1 div.sk-parallel-item::after {content: \"\";width: 100%;border-bottom: 1px solid gray;flex-grow: 1;}#sk-container-id-1 div.sk-label:hover label.sk-toggleable__label {background-color: #d4ebff;}#sk-container-id-1 div.sk-serial::before {content: \"\";position: absolute;border-left: 1px solid gray;box-sizing: border-box;top: 0;bottom: 0;left: 50%;z-index: 0;}#sk-container-id-1 div.sk-serial {display: flex;flex-direction: column;align-items: center;background-color: white;padding-right: 0.2em;padding-left: 0.2em;position: relative;}#sk-container-id-1 div.sk-item {position: relative;z-index: 1;}#sk-container-id-1 div.sk-parallel {display: flex;align-items: stretch;justify-content: center;background-color: white;position: relative;}#sk-container-id-1 div.sk-item::before, #sk-container-id-1 div.sk-parallel-item::before {content: \"\";position: absolute;border-left: 1px solid gray;box-sizing: border-box;top: 0;bottom: 0;left: 50%;z-index: -1;}#sk-container-id-1 div.sk-parallel-item {display: flex;flex-direction: column;z-index: 1;position: relative;background-color: white;}#sk-container-id-1 div.sk-parallel-item:first-child::after {align-self: flex-end;width: 50%;}#sk-container-id-1 div.sk-parallel-item:last-child::after {align-self: flex-start;width: 50%;}#sk-container-id-1 div.sk-parallel-item:only-child::after {width: 0;}#sk-container-id-1 div.sk-dashed-wrapped {border: 1px dashed gray;margin: 0 0.4em 0.5em 0.4em;box-sizing: border-box;padding-bottom: 0.4em;background-color: white;}#sk-container-id-1 div.sk-label label {font-family: monospace;font-weight: bold;display: inline-block;line-height: 1.2em;}#sk-container-id-1 div.sk-label-container {text-align: center;}#sk-container-id-1 div.sk-container {/* jupyter's `normalize.less` sets `[hidden] { display: none; }` but bootstrap.min.css set `[hidden] { display: none !important; }` so we also need the `!important` here to be able to override the default hidden behavior on the sphinx rendered scikit-learn.org. See: https://github.com/scikit-learn/scikit-learn/issues/21755 */display: inline-block !important;position: relative;}#sk-container-id-1 div.sk-text-repr-fallback {display: none;}</style><div id=\"sk-container-id-1\" class=\"sk-top-container\"><div class=\"sk-text-repr-fallback\"><pre>XGBRegressor(base_score=None, booster=None, callbacks=None,\n",
       "             colsample_bylevel=None, colsample_bynode=None,\n",
       "             colsample_bytree=None, device=None, early_stopping_rounds=50,\n",
       "             enable_categorical=False, eval_metric=None, feature_types=None,\n",
       "             gamma=None, grow_policy=None, importance_type=None,\n",
       "             interaction_constraints=None, learning_rate=None, max_bin=None,\n",
       "             max_cat_threshold=None, max_cat_to_onehot=None,\n",
       "             max_delta_step=None, max_depth=None, max_leaves=None,\n",
       "             min_child_weight=None, missing=nan, monotone_constraints=None,\n",
       "             multi_strategy=None, n_estimators=1000, n_jobs=None,\n",
       "             num_parallel_tree=None, random_state=None, ...)</pre><b>In a Jupyter environment, please rerun this cell to show the HTML representation or trust the notebook. <br />On GitHub, the HTML representation is unable to render, please try loading this page with nbviewer.org.</b></div><div class=\"sk-container\" hidden><div class=\"sk-item\"><div class=\"sk-estimator sk-toggleable\"><input class=\"sk-toggleable__control sk-hidden--visually\" id=\"sk-estimator-id-1\" type=\"checkbox\" checked><label for=\"sk-estimator-id-1\" class=\"sk-toggleable__label sk-toggleable__label-arrow\">XGBRegressor</label><div class=\"sk-toggleable__content\"><pre>XGBRegressor(base_score=None, booster=None, callbacks=None,\n",
       "             colsample_bylevel=None, colsample_bynode=None,\n",
       "             colsample_bytree=None, device=None, early_stopping_rounds=50,\n",
       "             enable_categorical=False, eval_metric=None, feature_types=None,\n",
       "             gamma=None, grow_policy=None, importance_type=None,\n",
       "             interaction_constraints=None, learning_rate=None, max_bin=None,\n",
       "             max_cat_threshold=None, max_cat_to_onehot=None,\n",
       "             max_delta_step=None, max_depth=None, max_leaves=None,\n",
       "             min_child_weight=None, missing=nan, monotone_constraints=None,\n",
       "             multi_strategy=None, n_estimators=1000, n_jobs=None,\n",
       "             num_parallel_tree=None, random_state=None, ...)</pre></div></div></div></div></div>"
      ],
      "text/plain": [
       "XGBRegressor(base_score=None, booster=None, callbacks=None,\n",
       "             colsample_bylevel=None, colsample_bynode=None,\n",
       "             colsample_bytree=None, device=None, early_stopping_rounds=50,\n",
       "             enable_categorical=False, eval_metric=None, feature_types=None,\n",
       "             gamma=None, grow_policy=None, importance_type=None,\n",
       "             interaction_constraints=None, learning_rate=None, max_bin=None,\n",
       "             max_cat_threshold=None, max_cat_to_onehot=None,\n",
       "             max_delta_step=None, max_depth=None, max_leaves=None,\n",
       "             min_child_weight=None, missing=nan, monotone_constraints=None,\n",
       "             multi_strategy=None, n_estimators=1000, n_jobs=None,\n",
       "             num_parallel_tree=None, random_state=None, ...)"
      ]
     },
     "execution_count": 54,
     "metadata": {},
     "output_type": "execute_result"
    }
   ],
   "source": [
    "reg = xgb.XGBRegressor(n_estimators=1000,\n",
    "                      early_stopping_rounds=50)\n",
    "\n",
    "reg.fit(X_train, y_train,\n",
    "        eval_set=[(X_train, y_train), (X_test, y_test)],\n",
    "       verbose=False)"
   ]
  },
  {
   "cell_type": "code",
   "execution_count": 55,
   "metadata": {
    "scrolled": true
   },
   "outputs": [],
   "source": [
    "# xgb_model = XGBRegressor(\n",
    "#     n_estimators=1000, \n",
    "#     learning_rate=0.05, \n",
    "#     early_stopping_rounds=10, \n",
    "#     eval_metric='mae')\n",
    "\n",
    "# xgb_model.fit(X_train, y_train, \n",
    "#               eval_set=[(X_train, y_train), (X_test, y_test)],\n",
    "#              verbose=False)"
   ]
  },
  {
   "cell_type": "code",
   "execution_count": 56,
   "metadata": {},
   "outputs": [
    {
     "data": {
      "image/png": "[encoded data removed]",
      "text/plain": [
       "<Figure size 640x480 with 1 Axes>"
      ]
     },
     "metadata": {},
     "output_type": "display_data"
    }
   ],
   "source": [
    "_ = plot_importance(reg, height=0.9)"
   ]
  },
  {
   "cell_type": "code",
   "execution_count": null,
   "metadata": {},
   "outputs": [],
   "source": []
  },
  {
   "cell_type": "code",
   "execution_count": 57,
   "metadata": {},
   "outputs": [],
   "source": [
    "vol_test.loc[:, 'pred'] = reg.predict(X_test)\n",
    "voltage = pd.concat([vol_test, vol_train], sort=False)"
   ]
  },
  {
   "cell_type": "code",
   "execution_count": 58,
   "metadata": {},
   "outputs": [
    {
     "data": {
      "text/html": [
       "<div>\n",
       "<style scoped>\n",
       "    .dataframe tbody tr th:only-of-type {\n",
       "        vertical-align: middle;\n",
       "    }\n",
       "\n",
       "    .dataframe tbody tr th {\n",
       "        vertical-align: top;\n",
       "    }\n",
       "\n",
       "    .dataframe thead th {\n",
       "        text-align: right;\n",
       "    }\n",
       "</style>\n",
       "<table border=\"1\" class=\"dataframe\">\n",
       "  <thead>\n",
       "    <tr style=\"text-align: right;\">\n",
       "      <th></th>\n",
       "      <th>box_id</th>\n",
       "      <th>temperature</th>\n",
       "      <th>vol</th>\n",
       "      <th>battery_soc</th>\n",
       "      <th>soc</th>\n",
       "      <th>soc_2</th>\n",
       "      <th>date</th>\n",
       "      <th>hour</th>\n",
       "      <th>dayofweek</th>\n",
       "      <th>quarter</th>\n",
       "      <th>month</th>\n",
       "      <th>year</th>\n",
       "      <th>dayofyear</th>\n",
       "      <th>dayofmonth</th>\n",
       "      <th>weekofyear</th>\n",
       "      <th>pred</th>\n",
       "    </tr>\n",
       "    <tr>\n",
       "      <th>event_time</th>\n",
       "      <th></th>\n",
       "      <th></th>\n",
       "      <th></th>\n",
       "      <th></th>\n",
       "      <th></th>\n",
       "      <th></th>\n",
       "      <th></th>\n",
       "      <th></th>\n",
       "      <th></th>\n",
       "      <th></th>\n",
       "      <th></th>\n",
       "      <th></th>\n",
       "      <th></th>\n",
       "      <th></th>\n",
       "      <th></th>\n",
       "      <th></th>\n",
       "    </tr>\n",
       "  </thead>\n",
       "  <tbody>\n",
       "    <tr>\n",
       "      <th>2024-11-06 00:01:00</th>\n",
       "      <td>7832.0</td>\n",
       "      <td>35.07</td>\n",
       "      <td>3.76500</td>\n",
       "      <td>35.63</td>\n",
       "      <td>71.173609</td>\n",
       "      <td>67.765795</td>\n",
       "      <td>2024-11-06 00:01:00</td>\n",
       "      <td>0</td>\n",
       "      <td>2</td>\n",
       "      <td>4</td>\n",
       "      <td>11</td>\n",
       "      <td>2024</td>\n",
       "      <td>311</td>\n",
       "      <td>6</td>\n",
       "      <td>45</td>\n",
       "      <td>3.88873</td>\n",
       "    </tr>\n",
       "    <tr>\n",
       "      <th>2024-11-06 00:02:00</th>\n",
       "      <td>7832.0</td>\n",
       "      <td>35.08</td>\n",
       "      <td>3.76500</td>\n",
       "      <td>35.57</td>\n",
       "      <td>71.173609</td>\n",
       "      <td>67.765795</td>\n",
       "      <td>2024-11-06 00:02:00</td>\n",
       "      <td>0</td>\n",
       "      <td>2</td>\n",
       "      <td>4</td>\n",
       "      <td>11</td>\n",
       "      <td>2024</td>\n",
       "      <td>311</td>\n",
       "      <td>6</td>\n",
       "      <td>45</td>\n",
       "      <td>3.88873</td>\n",
       "    </tr>\n",
       "    <tr>\n",
       "      <th>2024-11-06 00:03:00</th>\n",
       "      <td>7832.0</td>\n",
       "      <td>35.08</td>\n",
       "      <td>3.76296</td>\n",
       "      <td>35.43</td>\n",
       "      <td>70.972495</td>\n",
       "      <td>67.571617</td>\n",
       "      <td>2024-11-06 00:03:00</td>\n",
       "      <td>0</td>\n",
       "      <td>2</td>\n",
       "      <td>4</td>\n",
       "      <td>11</td>\n",
       "      <td>2024</td>\n",
       "      <td>311</td>\n",
       "      <td>6</td>\n",
       "      <td>45</td>\n",
       "      <td>3.88873</td>\n",
       "    </tr>\n",
       "    <tr>\n",
       "      <th>2024-11-06 00:04:00</th>\n",
       "      <td>7832.0</td>\n",
       "      <td>35.05</td>\n",
       "      <td>3.76296</td>\n",
       "      <td>35.32</td>\n",
       "      <td>70.972495</td>\n",
       "      <td>67.571617</td>\n",
       "      <td>2024-11-06 00:04:00</td>\n",
       "      <td>0</td>\n",
       "      <td>2</td>\n",
       "      <td>4</td>\n",
       "      <td>11</td>\n",
       "      <td>2024</td>\n",
       "      <td>311</td>\n",
       "      <td>6</td>\n",
       "      <td>45</td>\n",
       "      <td>3.88873</td>\n",
       "    </tr>\n",
       "    <tr>\n",
       "      <th>2024-11-06 00:05:00</th>\n",
       "      <td>7832.0</td>\n",
       "      <td>35.00</td>\n",
       "      <td>3.75996</td>\n",
       "      <td>35.21</td>\n",
       "      <td>70.675000</td>\n",
       "      <td>67.284788</td>\n",
       "      <td>2024-11-06 00:05:00</td>\n",
       "      <td>0</td>\n",
       "      <td>2</td>\n",
       "      <td>4</td>\n",
       "      <td>11</td>\n",
       "      <td>2024</td>\n",
       "      <td>311</td>\n",
       "      <td>6</td>\n",
       "      <td>45</td>\n",
       "      <td>3.88873</td>\n",
       "    </tr>\n",
       "  </tbody>\n",
       "</table>\n",
       "</div>"
      ],
      "text/plain": [
       "                     box_id  temperature      vol  battery_soc        soc  \\\n",
       "event_time                                                                  \n",
       "2024-11-06 00:01:00  7832.0        35.07  3.76500        35.63  71.173609   \n",
       "2024-11-06 00:02:00  7832.0        35.08  3.76500        35.57  71.173609   \n",
       "2024-11-06 00:03:00  7832.0        35.08  3.76296        35.43  70.972495   \n",
       "2024-11-06 00:04:00  7832.0        35.05  3.76296        35.32  70.972495   \n",
       "2024-11-06 00:05:00  7832.0        35.00  3.75996        35.21  70.675000   \n",
       "\n",
       "                         soc_2                date  hour  dayofweek  quarter  \\\n",
       "event_time                                                                     \n",
       "2024-11-06 00:01:00  67.765795 2024-11-06 00:01:00     0          2        4   \n",
       "2024-11-06 00:02:00  67.765795 2024-11-06 00:02:00     0          2        4   \n",
       "2024-11-06 00:03:00  67.571617 2024-11-06 00:03:00     0          2        4   \n",
       "2024-11-06 00:04:00  67.571617 2024-11-06 00:04:00     0          2        4   \n",
       "2024-11-06 00:05:00  67.284788 2024-11-06 00:05:00     0          2        4   \n",
       "\n",
       "                     month  year  dayofyear  dayofmonth  weekofyear     pred  \n",
       "event_time                                                                    \n",
       "2024-11-06 00:01:00     11  2024        311           6          45  3.88873  \n",
       "2024-11-06 00:02:00     11  2024        311           6          45  3.88873  \n",
       "2024-11-06 00:03:00     11  2024        311           6          45  3.88873  \n",
       "2024-11-06 00:04:00     11  2024        311           6          45  3.88873  \n",
       "2024-11-06 00:05:00     11  2024        311           6          45  3.88873  "
      ]
     },
     "execution_count": 58,
     "metadata": {},
     "output_type": "execute_result"
    }
   ],
   "source": [
    "voltage.head()"
   ]
  },
  {
   "cell_type": "code",
   "execution_count": 59,
   "metadata": {},
   "outputs": [
    {
     "data": {
      "image/png": "[encoded data removed]",
      "text/plain": [
       "<Figure size 1500x500 with 1 Axes>"
      ]
     },
     "metadata": {},
     "output_type": "display_data"
    }
   ],
   "source": [
    "_ = voltage[['vol', 'pred']].plot(figsize=(15, 5), color=['blue', 'red'])"
   ]
  },
  {
   "cell_type": "markdown",
   "metadata": {},
   "source": [
    "###  Look at first 12 hours of predictions¶"
   ]
  },
  {
   "cell_type": "code",
   "execution_count": 60,
   "metadata": {},
   "outputs": [
    {
     "data": {
      "image/png": "[encoded data removed]",
      "text/plain": [
       "<Figure size 1500x500 with 1 Axes>"
      ]
     },
     "metadata": {},
     "output_type": "display_data"
    }
   ],
   "source": [
    "f, ax = plt.subplots(1)\n",
    "f.set_figheight(5)\n",
    "f.set_figwidth(15)\n",
    "_ = voltage[['vol', 'pred']].plot(ax=ax,\n",
    "                                style=['-','-'], color=['blue', 'red'])\n",
    "ax.set_xbound(lower='2024-11-06 00:00:00', upper='2024-11-06 12:00:00')\n",
    "ax.set_ylim(2, 4.5)\n",
    "plot = plt.suptitle('Novomber 2023 Forecast vs Actuals')"
   ]
  },
  {
   "cell_type": "markdown",
   "metadata": {},
   "source": [
    "#### Error Metrics On Test Set"
   ]
  },
  {
   "cell_type": "code",
   "execution_count": 61,
   "metadata": {},
   "outputs": [],
   "source": [
    "from sklearn.metrics import mean_squared_error, mean_absolute_error\n",
    "import numpy as np"
   ]
  },
  {
   "cell_type": "code",
   "execution_count": 62,
   "metadata": {},
   "outputs": [
    {
     "data": {
      "text/plain": [
       "0.006938769583585906"
      ]
     },
     "execution_count": 62,
     "metadata": {},
     "output_type": "execute_result"
    }
   ],
   "source": [
    "mean_squared_error(y_true=vol_test['vol'],\n",
    "                   y_pred=vol_test['pred'])"
   ]
  },
  {
   "cell_type": "code",
   "execution_count": 63,
   "metadata": {},
   "outputs": [
    {
     "data": {
      "text/plain": [
       "0.05614539883414818"
      ]
     },
     "execution_count": 63,
     "metadata": {},
     "output_type": "execute_result"
    }
   ],
   "source": [
    "mean_absolute_error(y_true=vol_test['vol'],\n",
    "                   y_pred=vol_test['pred'])"
   ]
  },
  {
   "cell_type": "code",
   "execution_count": 64,
   "metadata": {},
   "outputs": [],
   "source": [
    "def mean_absolute_percentage_error(y_true, y_pred): \n",
    "    \"\"\"Calculates MAPE given y_true and y_pred\"\"\"\n",
    "    y_true, y_pred = np.array(y_true), np.array(y_pred)\n",
    "    return np.mean(np.abs((y_true - y_pred) / y_true)) * 100"
   ]
  },
  {
   "cell_type": "code",
   "execution_count": 65,
   "metadata": {},
   "outputs": [
    {
     "data": {
      "text/plain": [
       "1.428318462792026"
      ]
     },
     "execution_count": 65,
     "metadata": {},
     "output_type": "execute_result"
    }
   ],
   "source": [
    "mean_absolute_percentage_error(y_true=vol_test['vol'],\n",
    "                   y_pred=vol_test['pred'])"
   ]
  },
  {
   "cell_type": "markdown",
   "metadata": {},
   "source": [
    "#### Look at Worst and Best Predicted Days"
   ]
  },
  {
   "cell_type": "code",
   "execution_count": 66,
   "metadata": {},
   "outputs": [],
   "source": [
    "vol_test['error'] = vol_test['vol'] - vol_test['pred']\n",
    "vol_test['abs_error'] = vol_test['error'].apply(np.abs)\n",
    "error_by_day = vol_test.groupby(['year','month','dayofmonth']) \\\n",
    "    .mean()[['vol','pred','error','abs_error']]"
   ]
  },
  {
   "cell_type": "code",
   "execution_count": 69,
   "metadata": {},
   "outputs": [
    {
     "data": {
      "text/html": [
       "<div>\n",
       "<style scoped>\n",
       "    .dataframe tbody tr th:only-of-type {\n",
       "        vertical-align: middle;\n",
       "    }\n",
       "\n",
       "    .dataframe tbody tr th {\n",
       "        vertical-align: top;\n",
       "    }\n",
       "\n",
       "    .dataframe thead th {\n",
       "        text-align: right;\n",
       "    }\n",
       "</style>\n",
       "<table border=\"1\" class=\"dataframe\">\n",
       "  <thead>\n",
       "    <tr style=\"text-align: right;\">\n",
       "      <th></th>\n",
       "      <th></th>\n",
       "      <th></th>\n",
       "      <th>vol</th>\n",
       "      <th>pred</th>\n",
       "      <th>error</th>\n",
       "      <th>abs_error</th>\n",
       "    </tr>\n",
       "    <tr>\n",
       "      <th>year</th>\n",
       "      <th>month</th>\n",
       "      <th>dayofmonth</th>\n",
       "      <th></th>\n",
       "      <th></th>\n",
       "      <th></th>\n",
       "      <th></th>\n",
       "    </tr>\n",
       "  </thead>\n",
       "  <tbody>\n",
       "    <tr>\n",
       "      <th>2024</th>\n",
       "      <th>11</th>\n",
       "      <th>6</th>\n",
       "      <td>3.914297</td>\n",
       "      <td>3.927576</td>\n",
       "      <td>-0.013279</td>\n",
       "      <td>0.056145</td>\n",
       "    </tr>\n",
       "  </tbody>\n",
       "</table>\n",
       "</div>"
      ],
      "text/plain": [
       "                            vol      pred     error  abs_error\n",
       "year month dayofmonth                                         \n",
       "2024 11    6           3.914297  3.927576 -0.013279   0.056145"
      ]
     },
     "execution_count": 69,
     "metadata": {},
     "output_type": "execute_result"
    }
   ],
   "source": [
    "# Over forecasted days\n",
    "error_by_day.sort_values('error', ascending=True).head()"
   ]
  },
  {
   "cell_type": "code",
   "execution_count": 70,
   "metadata": {},
   "outputs": [
    {
     "data": {
      "text/html": [
       "<div>\n",
       "<style scoped>\n",
       "    .dataframe tbody tr th:only-of-type {\n",
       "        vertical-align: middle;\n",
       "    }\n",
       "\n",
       "    .dataframe tbody tr th {\n",
       "        vertical-align: top;\n",
       "    }\n",
       "\n",
       "    .dataframe thead th {\n",
       "        text-align: right;\n",
       "    }\n",
       "</style>\n",
       "<table border=\"1\" class=\"dataframe\">\n",
       "  <thead>\n",
       "    <tr style=\"text-align: right;\">\n",
       "      <th></th>\n",
       "      <th></th>\n",
       "      <th></th>\n",
       "      <th>vol</th>\n",
       "      <th>pred</th>\n",
       "      <th>error</th>\n",
       "      <th>abs_error</th>\n",
       "    </tr>\n",
       "    <tr>\n",
       "      <th>year</th>\n",
       "      <th>month</th>\n",
       "      <th>dayofmonth</th>\n",
       "      <th></th>\n",
       "      <th></th>\n",
       "      <th></th>\n",
       "      <th></th>\n",
       "    </tr>\n",
       "  </thead>\n",
       "  <tbody>\n",
       "    <tr>\n",
       "      <th>2024</th>\n",
       "      <th>11</th>\n",
       "      <th>6</th>\n",
       "      <td>3.914297</td>\n",
       "      <td>3.927576</td>\n",
       "      <td>-0.013279</td>\n",
       "      <td>0.056145</td>\n",
       "    </tr>\n",
       "  </tbody>\n",
       "</table>\n",
       "</div>"
      ],
      "text/plain": [
       "                            vol      pred     error  abs_error\n",
       "year month dayofmonth                                         \n",
       "2024 11    6           3.914297  3.927576 -0.013279   0.056145"
      ]
     },
     "execution_count": 70,
     "metadata": {},
     "output_type": "execute_result"
    }
   ],
   "source": [
    "# Worst absolute predicted days\n",
    "error_by_day.sort_values('abs_error', ascending=False).head()"
   ]
  },
  {
   "cell_type": "code",
   "execution_count": 71,
   "metadata": {},
   "outputs": [
    {
     "data": {
      "text/html": [
       "<div>\n",
       "<style scoped>\n",
       "    .dataframe tbody tr th:only-of-type {\n",
       "        vertical-align: middle;\n",
       "    }\n",
       "\n",
       "    .dataframe tbody tr th {\n",
       "        vertical-align: top;\n",
       "    }\n",
       "\n",
       "    .dataframe thead th {\n",
       "        text-align: right;\n",
       "    }\n",
       "</style>\n",
       "<table border=\"1\" class=\"dataframe\">\n",
       "  <thead>\n",
       "    <tr style=\"text-align: right;\">\n",
       "      <th></th>\n",
       "      <th></th>\n",
       "      <th></th>\n",
       "      <th>vol</th>\n",
       "      <th>pred</th>\n",
       "      <th>error</th>\n",
       "      <th>abs_error</th>\n",
       "    </tr>\n",
       "    <tr>\n",
       "      <th>year</th>\n",
       "      <th>month</th>\n",
       "      <th>dayofmonth</th>\n",
       "      <th></th>\n",
       "      <th></th>\n",
       "      <th></th>\n",
       "      <th></th>\n",
       "    </tr>\n",
       "  </thead>\n",
       "  <tbody>\n",
       "    <tr>\n",
       "      <th>2024</th>\n",
       "      <th>11</th>\n",
       "      <th>6</th>\n",
       "      <td>3.914297</td>\n",
       "      <td>3.927576</td>\n",
       "      <td>-0.013279</td>\n",
       "      <td>0.056145</td>\n",
       "    </tr>\n",
       "  </tbody>\n",
       "</table>\n",
       "</div>"
      ],
      "text/plain": [
       "                            vol      pred     error  abs_error\n",
       "year month dayofmonth                                         \n",
       "2024 11    6           3.914297  3.927576 -0.013279   0.056145"
      ]
     },
     "execution_count": 71,
     "metadata": {},
     "output_type": "execute_result"
    }
   ],
   "source": [
    "# Best predicted days\n",
    "error_by_day.sort_values('abs_error', ascending=True).head(10)"
   ]
  },
  {
   "cell_type": "markdown",
   "metadata": {},
   "source": [
    "#### Plotting some best/worst predicted days"
   ]
  },
  {
   "cell_type": "code",
   "execution_count": 72,
   "metadata": {},
   "outputs": [
    {
     "data": {
      "image/png": "[encoded data removed]",
      "text/plain": [
       "<Figure size 1000x500 with 1 Axes>"
      ]
     },
     "metadata": {},
     "output_type": "display_data"
    }
   ],
   "source": [
    "f, ax = plt.subplots(1)\n",
    "f.set_figheight(5)\n",
    "f.set_figwidth(10)\n",
    "_ = voltage[['vol','pred']].plot(ax=ax,\n",
    "                                style=['-','.'])\n",
    "ax.set_ylim(2, 4.5)\n",
    "ax.set_xbound(lower='2024-11-06 00:00:00', upper='2024-11-06 12:00:00')\n",
    "plot = plt.suptitle('Oct 6, 2024 - Worst Predicted Day')\n",
    "\n"
   ]
  },
  {
   "cell_type": "code",
   "execution_count": null,
   "metadata": {},
   "outputs": [],
   "source": []
  },
  {
   "cell_type": "code",
   "execution_count": null,
   "metadata": {},
   "outputs": [],
   "source": []
  },
  {
   "cell_type": "code",
   "execution_count": 100,
   "metadata": {},
   "outputs": [],
   "source": [
    "# mae = round(mean_absolute_error(df_y_test['vol'], df_y_test['Predicted']), 3)"
   ]
  },
  {
   "cell_type": "markdown",
   "metadata": {},
   "source": [
    "### Predict the value for next 2 Hours"
   ]
  },
  {
   "cell_type": "code",
   "execution_count": 86,
   "metadata": {
    "scrolled": true
   },
   "outputs": [
    {
     "data": {
      "text/html": [
       "<div>\n",
       "<style scoped>\n",
       "    .dataframe tbody tr th:only-of-type {\n",
       "        vertical-align: middle;\n",
       "    }\n",
       "\n",
       "    .dataframe tbody tr th {\n",
       "        vertical-align: top;\n",
       "    }\n",
       "\n",
       "    .dataframe thead th {\n",
       "        text-align: right;\n",
       "    }\n",
       "</style>\n",
       "<table border=\"1\" class=\"dataframe\">\n",
       "  <thead>\n",
       "    <tr style=\"text-align: right;\">\n",
       "      <th></th>\n",
       "      <th>hour</th>\n",
       "      <th>dayofweek</th>\n",
       "      <th>quarter</th>\n",
       "      <th>month</th>\n",
       "      <th>year</th>\n",
       "      <th>dayofyear</th>\n",
       "      <th>dayofmonth</th>\n",
       "      <th>weekofyear</th>\n",
       "    </tr>\n",
       "    <tr>\n",
       "      <th>event_time</th>\n",
       "      <th></th>\n",
       "      <th></th>\n",
       "      <th></th>\n",
       "      <th></th>\n",
       "      <th></th>\n",
       "      <th></th>\n",
       "      <th></th>\n",
       "      <th></th>\n",
       "    </tr>\n",
       "  </thead>\n",
       "  <tbody>\n",
       "    <tr>\n",
       "      <th>2024-11-06 02:02:00</th>\n",
       "      <td>2</td>\n",
       "      <td>2</td>\n",
       "      <td>4</td>\n",
       "      <td>11</td>\n",
       "      <td>2024</td>\n",
       "      <td>311</td>\n",
       "      <td>6</td>\n",
       "      <td>45</td>\n",
       "    </tr>\n",
       "    <tr>\n",
       "      <th>2024-11-06 02:03:00</th>\n",
       "      <td>2</td>\n",
       "      <td>2</td>\n",
       "      <td>4</td>\n",
       "      <td>11</td>\n",
       "      <td>2024</td>\n",
       "      <td>311</td>\n",
       "      <td>6</td>\n",
       "      <td>45</td>\n",
       "    </tr>\n",
       "    <tr>\n",
       "      <th>2024-11-06 02:04:00</th>\n",
       "      <td>2</td>\n",
       "      <td>2</td>\n",
       "      <td>4</td>\n",
       "      <td>11</td>\n",
       "      <td>2024</td>\n",
       "      <td>311</td>\n",
       "      <td>6</td>\n",
       "      <td>45</td>\n",
       "    </tr>\n",
       "    <tr>\n",
       "      <th>2024-11-06 02:05:00</th>\n",
       "      <td>2</td>\n",
       "      <td>2</td>\n",
       "      <td>4</td>\n",
       "      <td>11</td>\n",
       "      <td>2024</td>\n",
       "      <td>311</td>\n",
       "      <td>6</td>\n",
       "      <td>45</td>\n",
       "    </tr>\n",
       "    <tr>\n",
       "      <th>2024-11-06 02:06:00</th>\n",
       "      <td>2</td>\n",
       "      <td>2</td>\n",
       "      <td>4</td>\n",
       "      <td>11</td>\n",
       "      <td>2024</td>\n",
       "      <td>311</td>\n",
       "      <td>6</td>\n",
       "      <td>45</td>\n",
       "    </tr>\n",
       "  </tbody>\n",
       "</table>\n",
       "</div>"
      ],
      "text/plain": [
       "                     hour  dayofweek  quarter  month  year  dayofyear  \\\n",
       "event_time                                                              \n",
       "2024-11-06 02:02:00     2          2        4     11  2024        311   \n",
       "2024-11-06 02:03:00     2          2        4     11  2024        311   \n",
       "2024-11-06 02:04:00     2          2        4     11  2024        311   \n",
       "2024-11-06 02:05:00     2          2        4     11  2024        311   \n",
       "2024-11-06 02:06:00     2          2        4     11  2024        311   \n",
       "\n",
       "                     dayofmonth  weekofyear  \n",
       "event_time                                   \n",
       "2024-11-06 02:02:00           6          45  \n",
       "2024-11-06 02:03:00           6          45  \n",
       "2024-11-06 02:04:00           6          45  \n",
       "2024-11-06 02:05:00           6          45  \n",
       "2024-11-06 02:06:00           6          45  "
      ]
     },
     "execution_count": 86,
     "metadata": {},
     "output_type": "execute_result"
    }
   ],
   "source": [
    "future_dates = X_test.iloc[-720:, :].copy()\n",
    "future_dates.head()"
   ]
  },
  {
   "cell_type": "code",
   "execution_count": 87,
   "metadata": {},
   "outputs": [],
   "source": [
    "future_dates['event_time'] = pd.to_datetime(future_dates.index)\n",
    "future_dates = future_dates.set_index('event_time')"
   ]
  },
  {
   "cell_type": "code",
   "execution_count": 88,
   "metadata": {
    "scrolled": true
   },
   "outputs": [
    {
     "data": {
      "text/html": [
       "<div>\n",
       "<style scoped>\n",
       "    .dataframe tbody tr th:only-of-type {\n",
       "        vertical-align: middle;\n",
       "    }\n",
       "\n",
       "    .dataframe tbody tr th {\n",
       "        vertical-align: top;\n",
       "    }\n",
       "\n",
       "    .dataframe thead th {\n",
       "        text-align: right;\n",
       "    }\n",
       "</style>\n",
       "<table border=\"1\" class=\"dataframe\">\n",
       "  <thead>\n",
       "    <tr style=\"text-align: right;\">\n",
       "      <th></th>\n",
       "      <th>hour</th>\n",
       "      <th>dayofweek</th>\n",
       "      <th>quarter</th>\n",
       "      <th>month</th>\n",
       "      <th>year</th>\n",
       "      <th>dayofyear</th>\n",
       "      <th>dayofmonth</th>\n",
       "      <th>weekofyear</th>\n",
       "    </tr>\n",
       "    <tr>\n",
       "      <th>event_time</th>\n",
       "      <th></th>\n",
       "      <th></th>\n",
       "      <th></th>\n",
       "      <th></th>\n",
       "      <th></th>\n",
       "      <th></th>\n",
       "      <th></th>\n",
       "      <th></th>\n",
       "    </tr>\n",
       "  </thead>\n",
       "  <tbody>\n",
       "    <tr>\n",
       "      <th>2024-11-06 02:02:00</th>\n",
       "      <td>2</td>\n",
       "      <td>2</td>\n",
       "      <td>4</td>\n",
       "      <td>11</td>\n",
       "      <td>2024</td>\n",
       "      <td>311</td>\n",
       "      <td>6</td>\n",
       "      <td>45</td>\n",
       "    </tr>\n",
       "    <tr>\n",
       "      <th>2024-11-06 02:03:00</th>\n",
       "      <td>2</td>\n",
       "      <td>2</td>\n",
       "      <td>4</td>\n",
       "      <td>11</td>\n",
       "      <td>2024</td>\n",
       "      <td>311</td>\n",
       "      <td>6</td>\n",
       "      <td>45</td>\n",
       "    </tr>\n",
       "    <tr>\n",
       "      <th>2024-11-06 02:04:00</th>\n",
       "      <td>2</td>\n",
       "      <td>2</td>\n",
       "      <td>4</td>\n",
       "      <td>11</td>\n",
       "      <td>2024</td>\n",
       "      <td>311</td>\n",
       "      <td>6</td>\n",
       "      <td>45</td>\n",
       "    </tr>\n",
       "    <tr>\n",
       "      <th>2024-11-06 02:05:00</th>\n",
       "      <td>2</td>\n",
       "      <td>2</td>\n",
       "      <td>4</td>\n",
       "      <td>11</td>\n",
       "      <td>2024</td>\n",
       "      <td>311</td>\n",
       "      <td>6</td>\n",
       "      <td>45</td>\n",
       "    </tr>\n",
       "    <tr>\n",
       "      <th>2024-11-06 02:06:00</th>\n",
       "      <td>2</td>\n",
       "      <td>2</td>\n",
       "      <td>4</td>\n",
       "      <td>11</td>\n",
       "      <td>2024</td>\n",
       "      <td>311</td>\n",
       "      <td>6</td>\n",
       "      <td>45</td>\n",
       "    </tr>\n",
       "  </tbody>\n",
       "</table>\n",
       "</div>"
      ],
      "text/plain": [
       "                     hour  dayofweek  quarter  month  year  dayofyear  \\\n",
       "event_time                                                              \n",
       "2024-11-06 02:02:00     2          2        4     11  2024        311   \n",
       "2024-11-06 02:03:00     2          2        4     11  2024        311   \n",
       "2024-11-06 02:04:00     2          2        4     11  2024        311   \n",
       "2024-11-06 02:05:00     2          2        4     11  2024        311   \n",
       "2024-11-06 02:06:00     2          2        4     11  2024        311   \n",
       "\n",
       "                     dayofmonth  weekofyear  \n",
       "event_time                                   \n",
       "2024-11-06 02:02:00           6          45  \n",
       "2024-11-06 02:03:00           6          45  \n",
       "2024-11-06 02:04:00           6          45  \n",
       "2024-11-06 02:05:00           6          45  \n",
       "2024-11-06 02:06:00           6          45  "
      ]
     },
     "execution_count": 88,
     "metadata": {},
     "output_type": "execute_result"
    }
   ],
   "source": [
    "future_dates.head()"
   ]
  },
  {
   "cell_type": "code",
   "execution_count": null,
   "metadata": {},
   "outputs": [],
   "source": []
  },
  {
   "cell_type": "code",
   "execution_count": 89,
   "metadata": {},
   "outputs": [],
   "source": [
    "X = pd.concat([X_train, X_test], ignore_index=True)\n",
    "y = pd.concat([y_train, y_test], ignore_index=True)"
   ]
  },
  {
   "cell_type": "code",
   "execution_count": 90,
   "metadata": {},
   "outputs": [
    {
     "data": {
      "text/html": [
       "<div>\n",
       "<style scoped>\n",
       "    .dataframe tbody tr th:only-of-type {\n",
       "        vertical-align: middle;\n",
       "    }\n",
       "\n",
       "    .dataframe tbody tr th {\n",
       "        vertical-align: top;\n",
       "    }\n",
       "\n",
       "    .dataframe thead th {\n",
       "        text-align: right;\n",
       "    }\n",
       "</style>\n",
       "<table border=\"1\" class=\"dataframe\">\n",
       "  <thead>\n",
       "    <tr style=\"text-align: right;\">\n",
       "      <th></th>\n",
       "      <th>hour</th>\n",
       "      <th>dayofweek</th>\n",
       "      <th>quarter</th>\n",
       "      <th>month</th>\n",
       "      <th>year</th>\n",
       "      <th>dayofyear</th>\n",
       "      <th>dayofmonth</th>\n",
       "      <th>weekofyear</th>\n",
       "    </tr>\n",
       "  </thead>\n",
       "  <tbody>\n",
       "    <tr>\n",
       "      <th>0</th>\n",
       "      <td>13</td>\n",
       "      <td>5</td>\n",
       "      <td>4</td>\n",
       "      <td>11</td>\n",
       "      <td>2024</td>\n",
       "      <td>307</td>\n",
       "      <td>2</td>\n",
       "      <td>44</td>\n",
       "    </tr>\n",
       "    <tr>\n",
       "      <th>1</th>\n",
       "      <td>13</td>\n",
       "      <td>5</td>\n",
       "      <td>4</td>\n",
       "      <td>11</td>\n",
       "      <td>2024</td>\n",
       "      <td>307</td>\n",
       "      <td>2</td>\n",
       "      <td>44</td>\n",
       "    </tr>\n",
       "    <tr>\n",
       "      <th>2</th>\n",
       "      <td>13</td>\n",
       "      <td>5</td>\n",
       "      <td>4</td>\n",
       "      <td>11</td>\n",
       "      <td>2024</td>\n",
       "      <td>307</td>\n",
       "      <td>2</td>\n",
       "      <td>44</td>\n",
       "    </tr>\n",
       "    <tr>\n",
       "      <th>3</th>\n",
       "      <td>13</td>\n",
       "      <td>5</td>\n",
       "      <td>4</td>\n",
       "      <td>11</td>\n",
       "      <td>2024</td>\n",
       "      <td>307</td>\n",
       "      <td>2</td>\n",
       "      <td>44</td>\n",
       "    </tr>\n",
       "    <tr>\n",
       "      <th>4</th>\n",
       "      <td>13</td>\n",
       "      <td>5</td>\n",
       "      <td>4</td>\n",
       "      <td>11</td>\n",
       "      <td>2024</td>\n",
       "      <td>307</td>\n",
       "      <td>2</td>\n",
       "      <td>44</td>\n",
       "    </tr>\n",
       "  </tbody>\n",
       "</table>\n",
       "</div>"
      ],
      "text/plain": [
       "   hour  dayofweek  quarter  month  year  dayofyear  dayofmonth  weekofyear\n",
       "0    13          5        4     11  2024        307           2          44\n",
       "1    13          5        4     11  2024        307           2          44\n",
       "2    13          5        4     11  2024        307           2          44\n",
       "3    13          5        4     11  2024        307           2          44\n",
       "4    13          5        4     11  2024        307           2          44"
      ]
     },
     "execution_count": 90,
     "metadata": {},
     "output_type": "execute_result"
    }
   ],
   "source": [
    "pd.DataFrame(X).head()"
   ]
  },
  {
   "cell_type": "code",
   "execution_count": 91,
   "metadata": {},
   "outputs": [
    {
     "data": {
      "text/html": [
       "<div>\n",
       "<style scoped>\n",
       "    .dataframe tbody tr th:only-of-type {\n",
       "        vertical-align: middle;\n",
       "    }\n",
       "\n",
       "    .dataframe tbody tr th {\n",
       "        vertical-align: top;\n",
       "    }\n",
       "\n",
       "    .dataframe thead th {\n",
       "        text-align: right;\n",
       "    }\n",
       "</style>\n",
       "<table border=\"1\" class=\"dataframe\">\n",
       "  <thead>\n",
       "    <tr style=\"text-align: right;\">\n",
       "      <th></th>\n",
       "      <th>vol</th>\n",
       "    </tr>\n",
       "  </thead>\n",
       "  <tbody>\n",
       "    <tr>\n",
       "      <th>0</th>\n",
       "      <td>3.96000</td>\n",
       "    </tr>\n",
       "    <tr>\n",
       "      <th>1</th>\n",
       "      <td>3.84304</td>\n",
       "    </tr>\n",
       "    <tr>\n",
       "      <th>2</th>\n",
       "      <td>3.98004</td>\n",
       "    </tr>\n",
       "    <tr>\n",
       "      <th>3</th>\n",
       "      <td>3.99000</td>\n",
       "    </tr>\n",
       "    <tr>\n",
       "      <th>4</th>\n",
       "      <td>3.99696</td>\n",
       "    </tr>\n",
       "  </tbody>\n",
       "</table>\n",
       "</div>"
      ],
      "text/plain": [
       "       vol\n",
       "0  3.96000\n",
       "1  3.84304\n",
       "2  3.98004\n",
       "3  3.99000\n",
       "4  3.99696"
      ]
     },
     "execution_count": 91,
     "metadata": {},
     "output_type": "execute_result"
    }
   ],
   "source": [
    "pd.DataFrame(y).head()"
   ]
  },
  {
   "cell_type": "code",
   "execution_count": 92,
   "metadata": {
    "scrolled": true
   },
   "outputs": [
    {
     "data": {
      "text/html": [
       "<style>#sk-container-id-3 {color: black;}#sk-container-id-3 pre{padding: 0;}#sk-container-id-3 div.sk-toggleable {background-color: white;}#sk-container-id-3 label.sk-toggleable__label {cursor: pointer;display: block;width: 100%;margin-bottom: 0;padding: 0.3em;box-sizing: border-box;text-align: center;}#sk-container-id-3 label.sk-toggleable__label-arrow:before {content: \"▸\";float: left;margin-right: 0.25em;color: #696969;}#sk-container-id-3 label.sk-toggleable__label-arrow:hover:before {color: black;}#sk-container-id-3 div.sk-estimator:hover label.sk-toggleable__label-arrow:before {color: black;}#sk-container-id-3 div.sk-toggleable__content {max-height: 0;max-width: 0;overflow: hidden;text-align: left;background-color: #f0f8ff;}#sk-container-id-3 div.sk-toggleable__content pre {margin: 0.2em;color: black;border-radius: 0.25em;background-color: #f0f8ff;}#sk-container-id-3 input.sk-toggleable__control:checked~div.sk-toggleable__content {max-height: 200px;max-width: 100%;overflow: auto;}#sk-container-id-3 input.sk-toggleable__control:checked~label.sk-toggleable__label-arrow:before {content: \"▾\";}#sk-container-id-3 div.sk-estimator input.sk-toggleable__control:checked~label.sk-toggleable__label {background-color: #d4ebff;}#sk-container-id-3 div.sk-label input.sk-toggleable__control:checked~label.sk-toggleable__label {background-color: #d4ebff;}#sk-container-id-3 input.sk-hidden--visually {border: 0;clip: rect(1px 1px 1px 1px);clip: rect(1px, 1px, 1px, 1px);height: 1px;margin: -1px;overflow: hidden;padding: 0;position: absolute;width: 1px;}#sk-container-id-3 div.sk-estimator {font-family: monospace;background-color: #f0f8ff;border: 1px dotted black;border-radius: 0.25em;box-sizing: border-box;margin-bottom: 0.5em;}#sk-container-id-3 div.sk-estimator:hover {background-color: #d4ebff;}#sk-container-id-3 div.sk-parallel-item::after {content: \"\";width: 100%;border-bottom: 1px solid gray;flex-grow: 1;}#sk-container-id-3 div.sk-label:hover label.sk-toggleable__label {background-color: #d4ebff;}#sk-container-id-3 div.sk-serial::before {content: \"\";position: absolute;border-left: 1px solid gray;box-sizing: border-box;top: 0;bottom: 0;left: 50%;z-index: 0;}#sk-container-id-3 div.sk-serial {display: flex;flex-direction: column;align-items: center;background-color: white;padding-right: 0.2em;padding-left: 0.2em;position: relative;}#sk-container-id-3 div.sk-item {position: relative;z-index: 1;}#sk-container-id-3 div.sk-parallel {display: flex;align-items: stretch;justify-content: center;background-color: white;position: relative;}#sk-container-id-3 div.sk-item::before, #sk-container-id-3 div.sk-parallel-item::before {content: \"\";position: absolute;border-left: 1px solid gray;box-sizing: border-box;top: 0;bottom: 0;left: 50%;z-index: -1;}#sk-container-id-3 div.sk-parallel-item {display: flex;flex-direction: column;z-index: 1;position: relative;background-color: white;}#sk-container-id-3 div.sk-parallel-item:first-child::after {align-self: flex-end;width: 50%;}#sk-container-id-3 div.sk-parallel-item:last-child::after {align-self: flex-start;width: 50%;}#sk-container-id-3 div.sk-parallel-item:only-child::after {width: 0;}#sk-container-id-3 div.sk-dashed-wrapped {border: 1px dashed gray;margin: 0 0.4em 0.5em 0.4em;box-sizing: border-box;padding-bottom: 0.4em;background-color: white;}#sk-container-id-3 div.sk-label label {font-family: monospace;font-weight: bold;display: inline-block;line-height: 1.2em;}#sk-container-id-3 div.sk-label-container {text-align: center;}#sk-container-id-3 div.sk-container {/* jupyter's `normalize.less` sets `[hidden] { display: none; }` but bootstrap.min.css set `[hidden] { display: none !important; }` so we also need the `!important` here to be able to override the default hidden behavior on the sphinx rendered scikit-learn.org. See: https://github.com/scikit-learn/scikit-learn/issues/21755 */display: inline-block !important;position: relative;}#sk-container-id-3 div.sk-text-repr-fallback {display: none;}</style><div id=\"sk-container-id-3\" class=\"sk-top-container\"><div class=\"sk-text-repr-fallback\"><pre>XGBRegressor(base_score=None, booster=None, callbacks=None,\n",
       "             colsample_bylevel=None, colsample_bynode=None,\n",
       "             colsample_bytree=None, device=None, early_stopping_rounds=None,\n",
       "             enable_categorical=False, eval_metric=&#x27;mae&#x27;, feature_types=None,\n",
       "             gamma=None, grow_policy=None, importance_type=None,\n",
       "             interaction_constraints=None, learning_rate=0.05, max_bin=None,\n",
       "             max_cat_threshold=None, max_cat_to_onehot=None,\n",
       "             max_delta_step=None, max_depth=None, max_leaves=None,\n",
       "             min_child_weight=None, missing=nan, monotone_constraints=None,\n",
       "             multi_strategy=None, n_estimators=1000, n_jobs=None,\n",
       "             num_parallel_tree=None, random_state=None, ...)</pre><b>In a Jupyter environment, please rerun this cell to show the HTML representation or trust the notebook. <br />On GitHub, the HTML representation is unable to render, please try loading this page with nbviewer.org.</b></div><div class=\"sk-container\" hidden><div class=\"sk-item\"><div class=\"sk-estimator sk-toggleable\"><input class=\"sk-toggleable__control sk-hidden--visually\" id=\"sk-estimator-id-3\" type=\"checkbox\" checked><label for=\"sk-estimator-id-3\" class=\"sk-toggleable__label sk-toggleable__label-arrow\">XGBRegressor</label><div class=\"sk-toggleable__content\"><pre>XGBRegressor(base_score=None, booster=None, callbacks=None,\n",
       "             colsample_bylevel=None, colsample_bynode=None,\n",
       "             colsample_bytree=None, device=None, early_stopping_rounds=None,\n",
       "             enable_categorical=False, eval_metric=&#x27;mae&#x27;, feature_types=None,\n",
       "             gamma=None, grow_policy=None, importance_type=None,\n",
       "             interaction_constraints=None, learning_rate=0.05, max_bin=None,\n",
       "             max_cat_threshold=None, max_cat_to_onehot=None,\n",
       "             max_delta_step=None, max_depth=None, max_leaves=None,\n",
       "             min_child_weight=None, missing=nan, monotone_constraints=None,\n",
       "             multi_strategy=None, n_estimators=1000, n_jobs=None,\n",
       "             num_parallel_tree=None, random_state=None, ...)</pre></div></div></div></div></div>"
      ],
      "text/plain": [
       "XGBRegressor(base_score=None, booster=None, callbacks=None,\n",
       "             colsample_bylevel=None, colsample_bynode=None,\n",
       "             colsample_bytree=None, device=None, early_stopping_rounds=None,\n",
       "             enable_categorical=False, eval_metric='mae', feature_types=None,\n",
       "             gamma=None, grow_policy=None, importance_type=None,\n",
       "             interaction_constraints=None, learning_rate=0.05, max_bin=None,\n",
       "             max_cat_threshold=None, max_cat_to_onehot=None,\n",
       "             max_delta_step=None, max_depth=None, max_leaves=None,\n",
       "             min_child_weight=None, missing=nan, monotone_constraints=None,\n",
       "             multi_strategy=None, n_estimators=1000, n_jobs=None,\n",
       "             num_parallel_tree=None, random_state=None, ...)"
      ]
     },
     "execution_count": 92,
     "metadata": {},
     "output_type": "execute_result"
    }
   ],
   "source": [
    "xgb_model2 = XGBRegressor(\n",
    "    n_estimators=1000, \n",
    "    learning_rate=0.05, \n",
    "    eval_metric='mae')\n",
    "\n",
    "xgb_model2.fit(X, y)"
   ]
  },
  {
   "cell_type": "code",
   "execution_count": 93,
   "metadata": {},
   "outputs": [
    {
     "name": "stdout",
     "output_type": "stream",
     "text": [
      "<class 'pandas.core.frame.DataFrame'>\n",
      "DatetimeIndex: 720 entries, 2024-11-06 02:02:00 to 2024-11-06 14:01:00\n",
      "Data columns (total 8 columns):\n",
      " #   Column      Non-Null Count  Dtype \n",
      "---  ------      --------------  ----- \n",
      " 0   hour        720 non-null    int32 \n",
      " 1   dayofweek   720 non-null    int32 \n",
      " 2   quarter     720 non-null    int32 \n",
      " 3   month       720 non-null    int32 \n",
      " 4   year        720 non-null    int32 \n",
      " 5   dayofyear   720 non-null    int32 \n",
      " 6   dayofmonth  720 non-null    int32 \n",
      " 7   weekofyear  720 non-null    UInt32\n",
      "dtypes: UInt32(1), int32(7)\n",
      "memory usage: 28.8 KB\n"
     ]
    }
   ],
   "source": [
    "future_dates.info()"
   ]
  },
  {
   "cell_type": "code",
   "execution_count": 94,
   "metadata": {},
   "outputs": [],
   "source": [
    "xgb_pred2 = xgb_model2.predict(future_dates)"
   ]
  },
  {
   "cell_type": "code",
   "execution_count": 95,
   "metadata": {
    "scrolled": true
   },
   "outputs": [
    {
     "data": {
      "text/html": [
       "<div>\n",
       "<style scoped>\n",
       "    .dataframe tbody tr th:only-of-type {\n",
       "        vertical-align: middle;\n",
       "    }\n",
       "\n",
       "    .dataframe tbody tr th {\n",
       "        vertical-align: top;\n",
       "    }\n",
       "\n",
       "    .dataframe thead th {\n",
       "        text-align: right;\n",
       "    }\n",
       "</style>\n",
       "<table border=\"1\" class=\"dataframe\">\n",
       "  <thead>\n",
       "    <tr style=\"text-align: right;\">\n",
       "      <th></th>\n",
       "      <th>time</th>\n",
       "      <th>xgb_pred2</th>\n",
       "    </tr>\n",
       "    <tr>\n",
       "      <th>event_time</th>\n",
       "      <th></th>\n",
       "      <th></th>\n",
       "    </tr>\n",
       "  </thead>\n",
       "  <tbody>\n",
       "    <tr>\n",
       "      <th>2024-11-06 02:02:00</th>\n",
       "      <td>2</td>\n",
       "      <td>3.987872</td>\n",
       "    </tr>\n",
       "    <tr>\n",
       "      <th>2024-11-06 02:03:00</th>\n",
       "      <td>2</td>\n",
       "      <td>3.987872</td>\n",
       "    </tr>\n",
       "    <tr>\n",
       "      <th>2024-11-06 02:04:00</th>\n",
       "      <td>2</td>\n",
       "      <td>3.987872</td>\n",
       "    </tr>\n",
       "    <tr>\n",
       "      <th>2024-11-06 02:05:00</th>\n",
       "      <td>2</td>\n",
       "      <td>3.987872</td>\n",
       "    </tr>\n",
       "    <tr>\n",
       "      <th>2024-11-06 02:06:00</th>\n",
       "      <td>2</td>\n",
       "      <td>3.987872</td>\n",
       "    </tr>\n",
       "    <tr>\n",
       "      <th>...</th>\n",
       "      <td>...</td>\n",
       "      <td>...</td>\n",
       "    </tr>\n",
       "    <tr>\n",
       "      <th>2024-11-06 13:57:00</th>\n",
       "      <td>13</td>\n",
       "      <td>3.860282</td>\n",
       "    </tr>\n",
       "    <tr>\n",
       "      <th>2024-11-06 13:58:00</th>\n",
       "      <td>13</td>\n",
       "      <td>3.860282</td>\n",
       "    </tr>\n",
       "    <tr>\n",
       "      <th>2024-11-06 13:59:00</th>\n",
       "      <td>13</td>\n",
       "      <td>3.860282</td>\n",
       "    </tr>\n",
       "    <tr>\n",
       "      <th>2024-11-06 14:00:00</th>\n",
       "      <td>14</td>\n",
       "      <td>3.854225</td>\n",
       "    </tr>\n",
       "    <tr>\n",
       "      <th>2024-11-06 14:01:00</th>\n",
       "      <td>14</td>\n",
       "      <td>3.854225</td>\n",
       "    </tr>\n",
       "  </tbody>\n",
       "</table>\n",
       "<p>720 rows × 2 columns</p>\n",
       "</div>"
      ],
      "text/plain": [
       "                     time  xgb_pred2\n",
       "event_time                          \n",
       "2024-11-06 02:02:00     2   3.987872\n",
       "2024-11-06 02:03:00     2   3.987872\n",
       "2024-11-06 02:04:00     2   3.987872\n",
       "2024-11-06 02:05:00     2   3.987872\n",
       "2024-11-06 02:06:00     2   3.987872\n",
       "...                   ...        ...\n",
       "2024-11-06 13:57:00    13   3.860282\n",
       "2024-11-06 13:58:00    13   3.860282\n",
       "2024-11-06 13:59:00    13   3.860282\n",
       "2024-11-06 14:00:00    14   3.854225\n",
       "2024-11-06 14:01:00    14   3.854225\n",
       "\n",
       "[720 rows x 2 columns]"
      ]
     },
     "execution_count": 95,
     "metadata": {},
     "output_type": "execute_result"
    }
   ],
   "source": [
    "df_plot2 = pd.DataFrame({'time':future_dates['hour'], 'xgb_pred2':xgb_pred2})\n",
    "df_plot2"
   ]
  },
  {
   "cell_type": "code",
   "execution_count": 96,
   "metadata": {},
   "outputs": [
    {
     "data": {
      "image/png": "[encoded data removed]",
      "text/plain": [
       "<Figure size 2000x800 with 1 Axes>"
      ]
     },
     "metadata": {},
     "output_type": "display_data"
    }
   ],
   "source": [
    "last_12hours = df['2024-11-06 02:02:00' : '2024-11-06 13:59:00']\n",
    "\n",
    "plt.figure(figsize=(20,8))\n",
    "\n",
    "last_12hours['vol'].plot()\n",
    "df_plot2['xgb_pred2'].plot()\n",
    "plt.title('12 Hours Forecast', weight='bold', fontsize=25)\n",
    "plt.show()"
   ]
  },
  {
   "cell_type": "markdown",
   "metadata": {},
   "source": []
  },
  {
   "cell_type": "markdown",
   "metadata": {},
   "source": []
  },
  {
   "cell_type": "code",
   "execution_count": null,
   "metadata": {},
   "outputs": [],
   "source": []
  }
 ],
 "metadata": {
  "kernelspec": {
   "display_name": "Python 3 (ipykernel)",
   "language": "python",
   "name": "python3"
  },
  "language_info": {
   "codemirror_mode": {
    "name": "ipython",
    "version": 3
   },
   "file_extension": ".py",
   "mimetype": "text/x-python",
   "name": "python",
   "nbconvert_exporter": "python",
   "pygments_lexer": "ipython3",
   "version": "3.11.6"
  }
 },
 "nbformat": 4,
 "nbformat_minor": 4
}
